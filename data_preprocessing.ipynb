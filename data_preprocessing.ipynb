{
 "cells": [
  {
   "cell_type": "code",
   "execution_count": 92,
   "metadata": {
    "collapsed": true
   },
   "outputs": [
    {
     "data": {
      "text/plain": "                                  Neighborhood  Mean_Agg_Score\n0   b'South_and_West_of_Iowa_State_University'      127.785714\n1                    b'Iowa_DOT_and_Rail_Road'       49.229167\n2                        b'Northridge_Heights'       40.013699\n3                               b'Stone_Brook'       38.758621\n4                                  b'Old_Town'       37.672269\n5                                    b'Greens'       37.333333\n6                                b'Northridge'       36.968750\n7                       b'Bloomington_Heights'       36.823529\n8                                b'Timberland'       36.641026\n9                                   b'Veenker'       36.625000\n10                                  b'Edwards'       36.602041\n11                                 b'Somerset'       36.541176\n12                            b'College_Creek'       34.098485\n13                                  b'Gilbert'       33.615385\n14                                 b'Crawford'       33.588235\n15                              b'Clear_Creek'       33.521739\n16                               b'North_Ames'       31.986486\n17                                   b'Sawyer'       31.597222\n18                           b'Northwest_Ames'       31.558824\n19                                b'Brookside'       31.147541\n20                              b'Sawyer_West'       30.636364\n21                                 b'Mitchell'       29.962963\n22                          b'Northpark_Villa'       29.272727\n23                                 b'Landmark'       29.000000\n24                              b'Green_Hills'       29.000000\n25                                b'Briardale'       26.785714\n26                           b'Meadow_Village'       26.600000",
      "text/html": "<div>\n<style scoped>\n    .dataframe tbody tr th:only-of-type {\n        vertical-align: middle;\n    }\n\n    .dataframe tbody tr th {\n        vertical-align: top;\n    }\n\n    .dataframe thead th {\n        text-align: right;\n    }\n</style>\n<table border=\"1\" class=\"dataframe\">\n  <thead>\n    <tr style=\"text-align: right;\">\n      <th></th>\n      <th>Neighborhood</th>\n      <th>Mean_Agg_Score</th>\n    </tr>\n  </thead>\n  <tbody>\n    <tr>\n      <th>0</th>\n      <td>b'South_and_West_of_Iowa_State_University'</td>\n      <td>127.785714</td>\n    </tr>\n    <tr>\n      <th>1</th>\n      <td>b'Iowa_DOT_and_Rail_Road'</td>\n      <td>49.229167</td>\n    </tr>\n    <tr>\n      <th>2</th>\n      <td>b'Northridge_Heights'</td>\n      <td>40.013699</td>\n    </tr>\n    <tr>\n      <th>3</th>\n      <td>b'Stone_Brook'</td>\n      <td>38.758621</td>\n    </tr>\n    <tr>\n      <th>4</th>\n      <td>b'Old_Town'</td>\n      <td>37.672269</td>\n    </tr>\n    <tr>\n      <th>5</th>\n      <td>b'Greens'</td>\n      <td>37.333333</td>\n    </tr>\n    <tr>\n      <th>6</th>\n      <td>b'Northridge'</td>\n      <td>36.968750</td>\n    </tr>\n    <tr>\n      <th>7</th>\n      <td>b'Bloomington_Heights'</td>\n      <td>36.823529</td>\n    </tr>\n    <tr>\n      <th>8</th>\n      <td>b'Timberland'</td>\n      <td>36.641026</td>\n    </tr>\n    <tr>\n      <th>9</th>\n      <td>b'Veenker'</td>\n      <td>36.625000</td>\n    </tr>\n    <tr>\n      <th>10</th>\n      <td>b'Edwards'</td>\n      <td>36.602041</td>\n    </tr>\n    <tr>\n      <th>11</th>\n      <td>b'Somerset'</td>\n      <td>36.541176</td>\n    </tr>\n    <tr>\n      <th>12</th>\n      <td>b'College_Creek'</td>\n      <td>34.098485</td>\n    </tr>\n    <tr>\n      <th>13</th>\n      <td>b'Gilbert'</td>\n      <td>33.615385</td>\n    </tr>\n    <tr>\n      <th>14</th>\n      <td>b'Crawford'</td>\n      <td>33.588235</td>\n    </tr>\n    <tr>\n      <th>15</th>\n      <td>b'Clear_Creek'</td>\n      <td>33.521739</td>\n    </tr>\n    <tr>\n      <th>16</th>\n      <td>b'North_Ames'</td>\n      <td>31.986486</td>\n    </tr>\n    <tr>\n      <th>17</th>\n      <td>b'Sawyer'</td>\n      <td>31.597222</td>\n    </tr>\n    <tr>\n      <th>18</th>\n      <td>b'Northwest_Ames'</td>\n      <td>31.558824</td>\n    </tr>\n    <tr>\n      <th>19</th>\n      <td>b'Brookside'</td>\n      <td>31.147541</td>\n    </tr>\n    <tr>\n      <th>20</th>\n      <td>b'Sawyer_West'</td>\n      <td>30.636364</td>\n    </tr>\n    <tr>\n      <th>21</th>\n      <td>b'Mitchell'</td>\n      <td>29.962963</td>\n    </tr>\n    <tr>\n      <th>22</th>\n      <td>b'Northpark_Villa'</td>\n      <td>29.272727</td>\n    </tr>\n    <tr>\n      <th>23</th>\n      <td>b'Landmark'</td>\n      <td>29.000000</td>\n    </tr>\n    <tr>\n      <th>24</th>\n      <td>b'Green_Hills'</td>\n      <td>29.000000</td>\n    </tr>\n    <tr>\n      <th>25</th>\n      <td>b'Briardale'</td>\n      <td>26.785714</td>\n    </tr>\n    <tr>\n      <th>26</th>\n      <td>b'Meadow_Village'</td>\n      <td>26.600000</td>\n    </tr>\n  </tbody>\n</table>\n</div>"
     },
     "metadata": {},
     "output_type": "display_data"
    }
   ],
   "source": [
    "import pandas as pd\n",
    "import numpy as np\n",
    "import warnings\n",
    "from sklearn.preprocessing import StandardScaler\n",
    "\n",
    "warnings.filterwarnings('ignore')\n",
    "pd.set_option('display.max_rows', 500)\n",
    "pd.set_option('display.max_columns', 500)\n",
    "pd.set_option('display.width', 1000)\n",
    "\n",
    "X_train = pd.read_csv('x_train_cleaned.csv')\n",
    "X_test = pd.read_csv('x_test_cleaned.csv')\n",
    "y_train = pd.read_csv('y_train_cleaned.csv')\n",
    "y_test = pd.read_csv('y_test_cleaned.csv')\n",
    "\n",
    "quality_and_conditions=[]\n",
    "\n",
    "for columns in X_train.columns:\n",
    "    if '_Qual' in columns or '_Cond' in columns:\n",
    "        quality_and_conditions.append(columns)\n",
    "\n",
    "quality_and_conditions.append('Bsmt_Exposure')\n",
    "quality_and_conditions.append('Heating_QC')\n",
    "quality_and_conditions.append('Fireplace_Qu')\n",
    "\n",
    "X_train.loc[:,'Total_Qual'] = X_train.loc[:, quality_and_conditions].sum(axis=1)\n",
    "\n",
    "# perform groupby on `Neighborhood`, then aggregate via averaging\n",
    "neighborhood_scores = X_train.loc[:, ['Neighborhood','Total_Qual']].groupby('Neighborhood').agg(Mean_Agg_Score=('Total_Qual', np.mean))\n",
    "\n",
    "# sort dataframe by descending order of the mean score\n",
    "neighborhood_scores.sort_values(by='Mean_Agg_Score', ascending=False, inplace=True)\n",
    "\n",
    "# extract out neighborhood names from the index\n",
    "neighborhood_scores.loc[:,'Neighborhood'] = neighborhood_scores.index\n",
    "\n",
    "# reset index to the usual numeric form\n",
    "neighborhood_scores.reset_index(drop=True, inplace=True)\n",
    "\n",
    "# re-arrange columns to being Neighborhood to left-most position\n",
    "neighborhood_scores = neighborhood_scores.loc[:, ['Neighborhood', 'Mean_Agg_Score']]\n",
    "\n",
    "display(neighborhood_scores)\n",
    "#display(X_train['Total_Qual'])\n",
    "\n",
    "def get_score(x):\n",
    "    return neighborhood_scores.loc[neighborhood_scores.loc[:,'Neighborhood']==x,'Mean_Agg_Score'].values[0]\n",
    "\n",
    "# build the newly engineered attribute, call it Neighborhood Score\n",
    "X_train.loc[:,'Neighborhood_Score'] = X_train.loc[:,'Neighborhood'].apply(get_score)\n",
    "\n",
    "X_test.loc[:,'Total_Qual'] = X_test.loc[:, quality_and_conditions].sum(axis=1)\n",
    "# perform groupby on `Neighborhood`, then aggregate via averaging\n",
    "neighborhood_scores = X_test.loc[:, ['Neighborhood','Total_Qual']].groupby('Neighborhood').agg(Mean_Agg_Score=('Total_Qual', np.mean))\n",
    "\n",
    "# sort dataframe by descending order of the mean score\n",
    "neighborhood_scores.sort_values(by='Mean_Agg_Score', ascending=False, inplace=True)\n",
    "\n",
    "# extract out neighborhood names from the index\n",
    "neighborhood_scores.loc[:,'Neighborhood'] = neighborhood_scores.index\n",
    "\n",
    "# reset index to the usual numeric form\n",
    "neighborhood_scores.reset_index(drop=True, inplace=True)\n",
    "\n",
    "# re-arrange columns to being Neighborhood to left-most position\n",
    "neighborhood_scores = neighborhood_scores.loc[:, ['Neighborhood', 'Mean_Agg_Score']]\n",
    "\n",
    "X_test.loc[:,'Neighborhood_Score'] = X_test.loc[:,'Neighborhood'].apply(get_score)\n",
    "\n",
    "#display(X_train['Neighborhood_Score'])\n",
    "\n",
    "#X_train.drop(columns=['Neighborhood'], inplace=True)\n",
    "#X_test.drop(columns=['Neighborhood'], inplace=True)"
   ]
  },
  {
   "cell_type": "markdown",
   "source": [
    "Creiamo una nuova feature Total_Qual che è pari alla somma di tutti i campi qualitativi\n",
    "Creiamo una nuova feature Neighborhood_Score che si basa su Total_Qual per assegnargli un valore qualitativo al posto di nominale"
   ],
   "metadata": {
    "collapsed": false
   }
  },
  {
   "cell_type": "markdown",
   "source": [],
   "metadata": {
    "collapsed": false
   }
  },
  {
   "cell_type": "code",
   "execution_count": 93,
   "outputs": [
    {
     "data": {
      "text/plain": "0       272.0\n1       396.0\n2       170.0\n3       226.0\n4       192.0\n        ...  \n1457     24.0\n1458      0.0\n1459    120.0\n1460    164.0\n1461    112.0\nName: Total_Porch_SF, Length: 1462, dtype: float64"
     },
     "metadata": {},
     "output_type": "display_data"
    }
   ],
   "source": [
    "porch = ['Wood_Deck_SF', 'Open_Porch_SF', 'Enclosed_Porch', 'Three_season_porch', 'Screen_Porch']\n",
    "X_train.loc[:,'Total_Porch_SF'] = X_train.loc[:, porch].sum(axis=1)\n",
    "X_test.loc[:,'Total_Porch_SF'] = X_test.loc[:, porch].sum(axis=1)\n",
    "\n",
    "display(X_train['Total_Porch_SF'])"
   ],
   "metadata": {
    "collapsed": false
   }
  },
  {
   "cell_type": "code",
   "execution_count": 94,
   "outputs": [
    {
     "data": {
      "text/plain": "0       2823.0\n1       2676.0\n2       2536.0\n3       2049.0\n4       2484.0\n         ...  \n1457    1630.0\n1458    3894.0\n1459    2410.0\n1460    2011.0\n1461    1307.0\nName: Total_SF, Length: 1462, dtype: float64"
     },
     "metadata": {},
     "output_type": "display_data"
    }
   ],
   "source": [
    "surface = ['Total_Finished_Bsmt_SF', 'First_Flr_SF', 'Second_Flr_SF', 'Garage_Area']\n",
    "\n",
    "X_train['Total_Finished_Bsmt_SF'] = X_train['Total_Bsmt_SF'] - X_train['Bsmt_Unf_SF']\n",
    "X_test['Total_Finished_Bsmt_SF'] = X_test['Total_Bsmt_SF'] - X_test['Bsmt_Unf_SF']\n",
    "\n",
    "X_train.loc[:, 'Total_SF'] = X_train.loc[:, surface].sum(axis=1)\n",
    "X_test.loc[:, 'Total_SF'] = X_test.loc[:, surface].sum(axis=1)\n",
    "#vediamo se fare anche Total senza unfinished\n",
    "\n",
    "display(X_train['Total_SF'])"
   ],
   "metadata": {
    "collapsed": false
   }
  },
  {
   "cell_type": "code",
   "execution_count": 95,
   "outputs": [
    {
     "data": {
      "text/plain": "0       2.0\n1       3.0\n2       3.0\n3       2.0\n4       3.0\n       ... \n1457    2.0\n1458    4.0\n1459    2.0\n1460    2.0\n1461    2.0\nName: Total_Baths, Length: 1462, dtype: float64"
     },
     "metadata": {},
     "output_type": "display_data"
    }
   ],
   "source": [
    "baths = ['Full_Bath', 'Half_Bath', 'Bsmt_Full_Bath', 'Bsmt_Half_Bath']\n",
    "\n",
    "X_train.loc[:, 'Total_Baths'] = X_train.loc[:, baths].sum(axis=1)\n",
    "X_test.loc[:, 'Total_Baths'] = X_test.loc[:, baths].sum(axis=1)\n",
    "\n",
    "display(X_train['Total_Baths'])"
   ],
   "metadata": {
    "collapsed": false
   }
  },
  {
   "cell_type": "code",
   "execution_count": 96,
   "outputs": [
    {
     "data": {
      "text/plain": "0       50.0\n1       12.0\n2        9.0\n3       18.0\n4       20.0\n        ... \n1457    36.0\n1458    30.0\n1459    22.0\n1460    23.0\n1461    14.0\nName: Age at sale, Length: 1462, dtype: float64"
     },
     "metadata": {},
     "output_type": "display_data"
    }
   ],
   "source": [
    "X_train.loc[:,'Age at sale'] = X_train.loc[:,'Year_Sold'] - X_train.loc[:,'Year_Built']\n",
    "X_test.loc[:,'Age at sale'] = X_test.loc[:,'Year_Sold'] - X_test.loc[:,'Year_Built']\n",
    "\n",
    "display(X_train['Age at sale'])"
   ],
   "metadata": {
    "collapsed": false
   }
  },
  {
   "cell_type": "code",
   "execution_count": 97,
   "outputs": [
    {
     "name": "stdout",
     "output_type": "stream",
     "text": [
      "x_train_v2 shape after get_dummies: (1462, 223)\n",
      "x_test_v2 shape after get_dummies: (1462, 220)\n"
     ]
    }
   ],
   "source": [
    "X_train = pd.get_dummies(X_train.loc[:,[col for col in X_train.columns]])\n",
    "print('x_train_v2 shape after get_dummies: {}'.format(X_train.shape))\n",
    "# possible that a nominal value is not present in one of the nominal columns, resulting in more/lesser columns generated\n",
    "X_test = pd.get_dummies(X_test.loc[:,[col for col in X_test.columns]])\n",
    "print('x_test_v2 shape after get_dummies: {}'.format(X_test.shape))"
   ],
   "metadata": {
    "collapsed": false
   }
  },
  {
   "cell_type": "markdown",
   "source": [
    "Effettuiamo one-hot-encoding sulle colonne \"Stringa rimaste\" non qualitative ."
   ],
   "metadata": {
    "collapsed": false
   }
  },
  {
   "cell_type": "code",
   "execution_count": 98,
   "outputs": [
    {
     "name": "stdout",
     "output_type": "stream",
     "text": [
      "'MS_SubClass_b'One_Story_with_Finished_Attic_All_Ages'' found missing in x_test_v2, initialising new column with 0s.\n",
      "'Neighborhood_b'Green_Hills'' found missing in x_test_v2, initialising new column with 0s.\n",
      "'Neighborhood_b'Landmark'' found missing in x_test_v2, initialising new column with 0s.\n",
      "'Exterior_1st_b'ImStucc'' found missing in x_test_v2, initialising new column with 0s.\n",
      "'Exterior_1st_b'PreCast'' found missing in x_test_v2, initialising new column with 0s.\n",
      "'Exterior_1st_b'Stone'' found missing in x_test_v2, initialising new column with 0s.\n",
      "'Exterior_2nd_b'Other'' found missing in x_test_v2, initialising new column with 0s.\n",
      "'Exterior_2nd_b'PreCast'' found missing in x_test_v2, initialising new column with 0s.\n",
      "'Sale_Type_b'Con'' found missing in x_test_v2, initialising new column with 0s.\n",
      "\n",
      "\n",
      "'MS_SubClass_b'One_and_Half_Story_PUD_All_Ages'' found missing in x_train_v2, initialising new column with 0s.\n",
      "'Neighborhood_b'Blueste'' found missing in x_train_v2, initialising new column with 0s.\n",
      "'Exterior_1st_b'CBlock'' found missing in x_train_v2, initialising new column with 0s.\n",
      "'Exterior_2nd_b'CBlock'' found missing in x_train_v2, initialising new column with 0s.\n",
      "'Mas_Vnr_Type_b'CBlock'' found missing in x_train_v2, initialising new column with 0s.\n",
      "'Sale_Type_b'VWD'' found missing in x_train_v2, initialising new column with 0s.\n",
      "\n",
      "\n",
      "Check if both datasets have the same set of columns: True\n",
      "\n",
      "\n",
      "Current number of columns: 229\n"
     ]
    }
   ],
   "source": [
    "for col in X_train.columns:\n",
    "    if col not in X_test.columns:\n",
    "        print('\\'{}\\' found missing in x_test_v2, initialising new column with 0s.'.format(col))\n",
    "        X_test.loc[:,col] = 0\n",
    "print('\\n')\n",
    "for col in X_test.columns:\n",
    "    if col not in X_train.columns:\n",
    "        print('\\'{}\\' found missing in x_train_v2, initialising new column with 0s.'.format(col))\n",
    "        X_train.loc[:,col] = 0\n",
    "print('\\n')\n",
    "print('Check if both datasets have the same set of columns: {}'.format(set(X_train.columns) == set(X_test.columns)))\n",
    "print('\\n')\n",
    "print('Current number of columns: {}'.format(X_train.shape[1]))\n",
    "\n",
    "# ensure that column sequence is similar too\n",
    "column_list = list(X_train.columns)\n",
    "X_test = X_test.loc[:,column_list]"
   ],
   "metadata": {
    "collapsed": false
   }
  },
  {
   "cell_type": "markdown",
   "source": [
    "Se abbiamo un numero di feature differenti tra train e test risolviamo il problema ...  guardare file git"
   ],
   "metadata": {
    "collapsed": false
   }
  },
  {
   "cell_type": "code",
   "execution_count": 99,
   "outputs": [],
   "source": [
    "ss = StandardScaler()\n",
    "\n",
    "cols = X_train.columns\n",
    "\n",
    "# perform the normalization\n",
    "X_train = ss.fit_transform(X_train)\n",
    "X_test = ss.fit_transform(X_test)\n",
    "\n",
    "X_train = pd.DataFrame(data=X_train, columns=cols)\n",
    "X_test = pd.DataFrame(data=X_test, columns=cols)\n",
    "\n",
    "X_train.to_csv('x_train_preprocessed.csv', index=False)\n",
    "y_train.to_csv('y_train_preprocessed.csv', index=False)\n",
    "X_test.to_csv('x_test_preprocessed.csv', index=False)\n",
    "y_test.to_csv('y_test_preprocessed.csv', index=False)"
   ],
   "metadata": {
    "collapsed": false
   }
  }
 ],
 "metadata": {
  "kernelspec": {
   "display_name": "Python 3",
   "language": "python",
   "name": "python3"
  },
  "language_info": {
   "codemirror_mode": {
    "name": "ipython",
    "version": 2
   },
   "file_extension": ".py",
   "mimetype": "text/x-python",
   "name": "python",
   "nbconvert_exporter": "python",
   "pygments_lexer": "ipython2",
   "version": "2.7.6"
  }
 },
 "nbformat": 4,
 "nbformat_minor": 0
}
