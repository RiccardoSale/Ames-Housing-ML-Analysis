{
 "cells": [
  {
   "cell_type": "code",
   "execution_count": 129,
   "outputs": [
    {
     "data": {
      "text/plain": "                                 MS_SubClass                    MS_Zoning  Lot_Frontage  Lot_Area              Lot_Shape Land_Contour  Lot_Config   Neighborhood Condition_1  Bldg_Type   House_Style  Overall_Qual  Overall_Cond  Year_Built  Year_Remod_Add Roof_Style Exterior_1st Exterior_2nd Mas_Vnr_Type  Mas_Vnr_Area  Exter_Qual  Exter_Cond Foundation  Bsmt_Qual  Bsmt_Cond  Bsmt_Exposure BsmtFin_Type_1  BsmtFin_SF_1 BsmtFin_Type_2  BsmtFin_SF_2  Bsmt_Unf_SF  Total_Bsmt_SF  Heating_QC  First_Flr_SF  Second_Flr_SF  Low_Qual_Fin_SF  Gr_Liv_Area  Bsmt_Full_Bath  Bsmt_Half_Bath  Full_Bath  Half_Bath  Bedroom_AbvGr  Kitchen_AbvGr  Kitchen_Qual  Fireplaces  Fireplace_Qu   Garage_Type Garage_Finish  Garage_Area  Garage_Qual  Wood_Deck_SF  Open_Porch_SF  Enclosed_Porch  Three_season_porch  Screen_Porch  Pool_Area               Fence  Misc_Val  Year_Sold Sale_Type Sale_Condition  All_Quality  Neighborhood_Score\n0     b'One_Story_1946_and_Newer_All_Styles'   b'Residential_Low_Density'         141.0   31770.0  b'Slightly_Irregular'       b'Lvl'   b'Corner'  b'North_Ames'     b'Norm'  b'OneFam'  b'One_Story'             5             4      1960.0          1960.0     b'Hip'   b'BrkFace'   b'Plywood'     b'Stone'         112.0           1           2  b'CBlock'          3          4              4         b'BLQ'           2.0         b'Unf'           0.0        441.0         1080.0           1        1656.0            0.0              0.0       1656.0             1.0             0.0        1.0        0.0            3.0            1.0             2         2.0             4     b'Attchd'        b'Fin'        528.0            3         210.0           62.0             0.0                 0.0           0.0        0.0         b'No_Fence'       0.0     2010.0    b'WD '      b'Normal'           33           28.696864\n1     b'One_Story_1946_and_Newer_All_Styles'  b'Residential_High_Density'          80.0   11622.0             b'Regular'       b'Lvl'   b'Inside'  b'North_Ames'    b'Feedr'  b'OneFam'  b'One_Story'             4             5      1961.0          1961.0   b'Gable'   b'VinylSd'   b'VinylSd'      b'None'           0.0           1           2  b'CBlock'          3          3              1         b'Rec'           6.0         b'LwQ'         144.0        270.0          882.0           2         896.0            0.0              0.0        896.0             0.0             0.0        1.0        0.0            2.0            1.0             2         0.0             0     b'Attchd'        b'Unf'        730.0            3         140.0            0.0             0.0                 0.0         120.0        0.0  b'Minimum_Privacy'       0.0     2010.0    b'WD '      b'Normal'           26           28.696864\n2     b'One_Story_1946_and_Newer_All_Styles'   b'Residential_Low_Density'          81.0   14267.0  b'Slightly_Irregular'       b'Lvl'   b'Corner'  b'North_Ames'     b'Norm'  b'OneFam'  b'One_Story'             5             5      1958.0          1958.0     b'Hip'   b'Wd Sdng'   b'Wd Sdng'   b'BrkFace'         108.0           1           2  b'CBlock'          3          3              1         b'ALQ'           1.0         b'Unf'           0.0        406.0         1329.0           2        1329.0            0.0              0.0       1329.0             0.0             0.0        1.0        1.0            3.0            1.0             3         0.0             0     b'Attchd'        b'Unf'        312.0            3         393.0           36.0             0.0                 0.0           0.0        0.0         b'No_Fence'   12500.0     2010.0    b'WD '      b'Normal'           28           28.696864\n3                b'Two_Story_1946_and_Newer'   b'Residential_Low_Density'          74.0   13830.0  b'Slightly_Irregular'       b'Lvl'   b'Inside'     b'Gilbert'     b'Norm'  b'OneFam'  b'Two_Story'             4             4      1997.0          1998.0   b'Gable'   b'VinylSd'   b'VinylSd'      b'None'           0.0           1           2   b'PConc'          4          3              1         b'GLQ'           3.0         b'Unf'           0.0        137.0          928.0           3         928.0          701.0              0.0       1629.0             0.0             0.0        2.0        1.0            3.0            1.0             2         1.0             3     b'Attchd'        b'Fin'        482.0            3         212.0           34.0             0.0                 0.0           0.0        0.0  b'Minimum_Privacy'       0.0     2010.0    b'WD '      b'Normal'           30           33.517857\n4                b'Two_Story_1946_and_Newer'   b'Residential_Low_Density'          78.0    9978.0  b'Slightly_Irregular'       b'Lvl'   b'Inside'     b'Gilbert'     b'Norm'  b'OneFam'  b'Two_Story'             5             5      1998.0          1998.0   b'Gable'   b'VinylSd'   b'VinylSd'   b'BrkFace'          20.0           1           2   b'PConc'          3          3              1         b'GLQ'           3.0         b'Unf'           0.0        324.0          926.0           4         926.0          678.0              0.0       1604.0             0.0             0.0        2.0        1.0            3.0            1.0             3         1.0             4     b'Attchd'        b'Fin'        470.0            3         360.0           36.0             0.0                 0.0           0.0        0.0         b'No_Fence'       0.0     2010.0    b'WD '      b'Normal'           34           33.517857\n...                                      ...                          ...           ...       ...                    ...          ...         ...            ...         ...        ...           ...           ...           ...         ...             ...        ...          ...          ...          ...           ...         ...         ...        ...        ...        ...            ...            ...           ...            ...           ...          ...            ...         ...           ...            ...              ...          ...             ...             ...        ...        ...            ...            ...           ...         ...           ...           ...           ...          ...          ...           ...            ...             ...                 ...           ...        ...                 ...       ...        ...       ...            ...          ...                 ...\n1945           b'Duplex_All_Styles_and_Ages'   b'Residential_Low_Density'          63.0    9297.0             b'Regular'       b'Lvl'   b'Inside'    b'Mitchell'     b'Norm'  b'Duplex'  b'One_Story'             4             4      1976.0          1976.0   b'Gable'   b'Plywood'   b'Plywood'      b'None'           0.0           1           2  b'CBlock'          3          3              1         b'ALQ'           1.0         b'Unf'           0.0        122.0         1728.0           2        1728.0            0.0              0.0       1728.0             2.0             0.0        2.0        0.0            4.0            2.0             2         0.0             0     b'Detchd'        b'Unf'        560.0            3           0.0            0.0             0.0                 0.0           0.0        0.0         b'No_Fence'       0.0     2006.0    b'WD '      b'Family'           25           29.649351\n1946  b'One_Story_1946_and_Newer_All_Styles'   b'Residential_Low_Density'          80.0   17400.0             b'Regular'       b'Low'   b'Inside'    b'Mitchell'     b'Norm'  b'OneFam'  b'One_Story'             4             4      1977.0          1977.0   b'Gable'   b'BrkFace'   b'BrkFace'      b'None'           0.0           1           2  b'CBlock'          3          3              1         b'ALQ'           1.0         b'Unf'           0.0        190.0         1126.0           1        1126.0            0.0              0.0       1126.0             1.0             0.0        2.0        0.0            3.0            1.0             2         1.0             4     b'Attchd'        b'RFn'        484.0            3         295.0           41.0             0.0                 0.0           0.0        0.0         b'No_Fence'       0.0     2006.0    b'WD '      b'Normal'           28           29.649351\n1947                  b'Split_or_Multilevel'   b'Residential_Low_Density'          37.0    7937.0  b'Slightly_Irregular'       b'Lvl'  b'CulDSac'    b'Mitchell'     b'Norm'  b'OneFam'       b'SLvl'             5             5      1984.0          1984.0   b'Gable'   b'HdBoard'   b'HdBoard'      b'None'           0.0           1           2  b'CBlock'          3          3              3         b'GLQ'           3.0         b'Unf'           0.0        184.0         1003.0           2        1003.0            0.0              0.0       1003.0             1.0             0.0        1.0        0.0            3.0            1.0             2         0.0             0     b'Detchd'        b'Unf'        588.0            3         120.0            0.0             0.0                 0.0           0.0        0.0     b'Good_Privacy'       0.0     2006.0    b'WD '      b'Normal'           29           29.649351\n1948  b'One_Story_1946_and_Newer_All_Styles'   b'Residential_Low_Density'           0.0    8885.0  b'Slightly_Irregular'       b'Low'   b'Inside'    b'Mitchell'     b'Norm'  b'OneFam'  b'One_Story'             4             4      1983.0          1983.0   b'Gable'   b'HdBoard'   b'HdBoard'      b'None'           0.0           1           2  b'CBlock'          4          3              3         b'BLQ'           2.0         b'ALQ'         324.0        239.0          864.0           2         902.0            0.0              0.0        902.0             1.0             0.0        1.0        0.0            2.0            1.0             2         0.0             0     b'Attchd'        b'Unf'        484.0            3         164.0            0.0             0.0                 0.0           0.0        0.0  b'Minimum_Privacy'       0.0     2006.0    b'WD '      b'Normal'           28           29.649351\n1949                          b'Split_Foyer'   b'Residential_Low_Density'          62.0   10441.0             b'Regular'       b'Lvl'   b'Inside'    b'Mitchell'     b'Norm'  b'OneFam'     b'SFoyer'             4             4      1992.0          1992.0   b'Gable'   b'HdBoard'   b'Wd Shng'      b'None'           0.0           1           2   b'PConc'          4          3              3         b'GLQ'           3.0         b'Unf'           0.0        575.0          912.0           2         970.0            0.0              0.0        970.0             0.0             1.0        1.0        0.0            3.0            1.0             2         0.0             0  b'No_Garage'  b'No_Garage'          0.0            0          80.0           32.0             0.0                 0.0           0.0        0.0  b'Minimum_Privacy'     700.0     2006.0    b'WD '      b'Normal'           25           29.649351\n\n[1950 rows x 63 columns]",
      "text/html": "<div>\n<style scoped>\n    .dataframe tbody tr th:only-of-type {\n        vertical-align: middle;\n    }\n\n    .dataframe tbody tr th {\n        vertical-align: top;\n    }\n\n    .dataframe thead th {\n        text-align: right;\n    }\n</style>\n<table border=\"1\" class=\"dataframe\">\n  <thead>\n    <tr style=\"text-align: right;\">\n      <th></th>\n      <th>MS_SubClass</th>\n      <th>MS_Zoning</th>\n      <th>Lot_Frontage</th>\n      <th>Lot_Area</th>\n      <th>Lot_Shape</th>\n      <th>Land_Contour</th>\n      <th>Lot_Config</th>\n      <th>Neighborhood</th>\n      <th>Condition_1</th>\n      <th>Bldg_Type</th>\n      <th>House_Style</th>\n      <th>Overall_Qual</th>\n      <th>Overall_Cond</th>\n      <th>Year_Built</th>\n      <th>Year_Remod_Add</th>\n      <th>Roof_Style</th>\n      <th>Exterior_1st</th>\n      <th>Exterior_2nd</th>\n      <th>Mas_Vnr_Type</th>\n      <th>Mas_Vnr_Area</th>\n      <th>Exter_Qual</th>\n      <th>Exter_Cond</th>\n      <th>Foundation</th>\n      <th>Bsmt_Qual</th>\n      <th>Bsmt_Cond</th>\n      <th>Bsmt_Exposure</th>\n      <th>BsmtFin_Type_1</th>\n      <th>BsmtFin_SF_1</th>\n      <th>BsmtFin_Type_2</th>\n      <th>BsmtFin_SF_2</th>\n      <th>Bsmt_Unf_SF</th>\n      <th>Total_Bsmt_SF</th>\n      <th>Heating_QC</th>\n      <th>First_Flr_SF</th>\n      <th>Second_Flr_SF</th>\n      <th>Low_Qual_Fin_SF</th>\n      <th>Gr_Liv_Area</th>\n      <th>Bsmt_Full_Bath</th>\n      <th>Bsmt_Half_Bath</th>\n      <th>Full_Bath</th>\n      <th>Half_Bath</th>\n      <th>Bedroom_AbvGr</th>\n      <th>Kitchen_AbvGr</th>\n      <th>Kitchen_Qual</th>\n      <th>Fireplaces</th>\n      <th>Fireplace_Qu</th>\n      <th>Garage_Type</th>\n      <th>Garage_Finish</th>\n      <th>Garage_Area</th>\n      <th>Garage_Qual</th>\n      <th>Wood_Deck_SF</th>\n      <th>Open_Porch_SF</th>\n      <th>Enclosed_Porch</th>\n      <th>Three_season_porch</th>\n      <th>Screen_Porch</th>\n      <th>Pool_Area</th>\n      <th>Fence</th>\n      <th>Misc_Val</th>\n      <th>Year_Sold</th>\n      <th>Sale_Type</th>\n      <th>Sale_Condition</th>\n      <th>All_Quality</th>\n      <th>Neighborhood_Score</th>\n    </tr>\n  </thead>\n  <tbody>\n    <tr>\n      <th>0</th>\n      <td>b'One_Story_1946_and_Newer_All_Styles'</td>\n      <td>b'Residential_Low_Density'</td>\n      <td>141.0</td>\n      <td>31770.0</td>\n      <td>b'Slightly_Irregular'</td>\n      <td>b'Lvl'</td>\n      <td>b'Corner'</td>\n      <td>b'North_Ames'</td>\n      <td>b'Norm'</td>\n      <td>b'OneFam'</td>\n      <td>b'One_Story'</td>\n      <td>5</td>\n      <td>4</td>\n      <td>1960.0</td>\n      <td>1960.0</td>\n      <td>b'Hip'</td>\n      <td>b'BrkFace'</td>\n      <td>b'Plywood'</td>\n      <td>b'Stone'</td>\n      <td>112.0</td>\n      <td>1</td>\n      <td>2</td>\n      <td>b'CBlock'</td>\n      <td>3</td>\n      <td>4</td>\n      <td>4</td>\n      <td>b'BLQ'</td>\n      <td>2.0</td>\n      <td>b'Unf'</td>\n      <td>0.0</td>\n      <td>441.0</td>\n      <td>1080.0</td>\n      <td>1</td>\n      <td>1656.0</td>\n      <td>0.0</td>\n      <td>0.0</td>\n      <td>1656.0</td>\n      <td>1.0</td>\n      <td>0.0</td>\n      <td>1.0</td>\n      <td>0.0</td>\n      <td>3.0</td>\n      <td>1.0</td>\n      <td>2</td>\n      <td>2.0</td>\n      <td>4</td>\n      <td>b'Attchd'</td>\n      <td>b'Fin'</td>\n      <td>528.0</td>\n      <td>3</td>\n      <td>210.0</td>\n      <td>62.0</td>\n      <td>0.0</td>\n      <td>0.0</td>\n      <td>0.0</td>\n      <td>0.0</td>\n      <td>b'No_Fence'</td>\n      <td>0.0</td>\n      <td>2010.0</td>\n      <td>b'WD '</td>\n      <td>b'Normal'</td>\n      <td>33</td>\n      <td>28.696864</td>\n    </tr>\n    <tr>\n      <th>1</th>\n      <td>b'One_Story_1946_and_Newer_All_Styles'</td>\n      <td>b'Residential_High_Density'</td>\n      <td>80.0</td>\n      <td>11622.0</td>\n      <td>b'Regular'</td>\n      <td>b'Lvl'</td>\n      <td>b'Inside'</td>\n      <td>b'North_Ames'</td>\n      <td>b'Feedr'</td>\n      <td>b'OneFam'</td>\n      <td>b'One_Story'</td>\n      <td>4</td>\n      <td>5</td>\n      <td>1961.0</td>\n      <td>1961.0</td>\n      <td>b'Gable'</td>\n      <td>b'VinylSd'</td>\n      <td>b'VinylSd'</td>\n      <td>b'None'</td>\n      <td>0.0</td>\n      <td>1</td>\n      <td>2</td>\n      <td>b'CBlock'</td>\n      <td>3</td>\n      <td>3</td>\n      <td>1</td>\n      <td>b'Rec'</td>\n      <td>6.0</td>\n      <td>b'LwQ'</td>\n      <td>144.0</td>\n      <td>270.0</td>\n      <td>882.0</td>\n      <td>2</td>\n      <td>896.0</td>\n      <td>0.0</td>\n      <td>0.0</td>\n      <td>896.0</td>\n      <td>0.0</td>\n      <td>0.0</td>\n      <td>1.0</td>\n      <td>0.0</td>\n      <td>2.0</td>\n      <td>1.0</td>\n      <td>2</td>\n      <td>0.0</td>\n      <td>0</td>\n      <td>b'Attchd'</td>\n      <td>b'Unf'</td>\n      <td>730.0</td>\n      <td>3</td>\n      <td>140.0</td>\n      <td>0.0</td>\n      <td>0.0</td>\n      <td>0.0</td>\n      <td>120.0</td>\n      <td>0.0</td>\n      <td>b'Minimum_Privacy'</td>\n      <td>0.0</td>\n      <td>2010.0</td>\n      <td>b'WD '</td>\n      <td>b'Normal'</td>\n      <td>26</td>\n      <td>28.696864</td>\n    </tr>\n    <tr>\n      <th>2</th>\n      <td>b'One_Story_1946_and_Newer_All_Styles'</td>\n      <td>b'Residential_Low_Density'</td>\n      <td>81.0</td>\n      <td>14267.0</td>\n      <td>b'Slightly_Irregular'</td>\n      <td>b'Lvl'</td>\n      <td>b'Corner'</td>\n      <td>b'North_Ames'</td>\n      <td>b'Norm'</td>\n      <td>b'OneFam'</td>\n      <td>b'One_Story'</td>\n      <td>5</td>\n      <td>5</td>\n      <td>1958.0</td>\n      <td>1958.0</td>\n      <td>b'Hip'</td>\n      <td>b'Wd Sdng'</td>\n      <td>b'Wd Sdng'</td>\n      <td>b'BrkFace'</td>\n      <td>108.0</td>\n      <td>1</td>\n      <td>2</td>\n      <td>b'CBlock'</td>\n      <td>3</td>\n      <td>3</td>\n      <td>1</td>\n      <td>b'ALQ'</td>\n      <td>1.0</td>\n      <td>b'Unf'</td>\n      <td>0.0</td>\n      <td>406.0</td>\n      <td>1329.0</td>\n      <td>2</td>\n      <td>1329.0</td>\n      <td>0.0</td>\n      <td>0.0</td>\n      <td>1329.0</td>\n      <td>0.0</td>\n      <td>0.0</td>\n      <td>1.0</td>\n      <td>1.0</td>\n      <td>3.0</td>\n      <td>1.0</td>\n      <td>3</td>\n      <td>0.0</td>\n      <td>0</td>\n      <td>b'Attchd'</td>\n      <td>b'Unf'</td>\n      <td>312.0</td>\n      <td>3</td>\n      <td>393.0</td>\n      <td>36.0</td>\n      <td>0.0</td>\n      <td>0.0</td>\n      <td>0.0</td>\n      <td>0.0</td>\n      <td>b'No_Fence'</td>\n      <td>12500.0</td>\n      <td>2010.0</td>\n      <td>b'WD '</td>\n      <td>b'Normal'</td>\n      <td>28</td>\n      <td>28.696864</td>\n    </tr>\n    <tr>\n      <th>3</th>\n      <td>b'Two_Story_1946_and_Newer'</td>\n      <td>b'Residential_Low_Density'</td>\n      <td>74.0</td>\n      <td>13830.0</td>\n      <td>b'Slightly_Irregular'</td>\n      <td>b'Lvl'</td>\n      <td>b'Inside'</td>\n      <td>b'Gilbert'</td>\n      <td>b'Norm'</td>\n      <td>b'OneFam'</td>\n      <td>b'Two_Story'</td>\n      <td>4</td>\n      <td>4</td>\n      <td>1997.0</td>\n      <td>1998.0</td>\n      <td>b'Gable'</td>\n      <td>b'VinylSd'</td>\n      <td>b'VinylSd'</td>\n      <td>b'None'</td>\n      <td>0.0</td>\n      <td>1</td>\n      <td>2</td>\n      <td>b'PConc'</td>\n      <td>4</td>\n      <td>3</td>\n      <td>1</td>\n      <td>b'GLQ'</td>\n      <td>3.0</td>\n      <td>b'Unf'</td>\n      <td>0.0</td>\n      <td>137.0</td>\n      <td>928.0</td>\n      <td>3</td>\n      <td>928.0</td>\n      <td>701.0</td>\n      <td>0.0</td>\n      <td>1629.0</td>\n      <td>0.0</td>\n      <td>0.0</td>\n      <td>2.0</td>\n      <td>1.0</td>\n      <td>3.0</td>\n      <td>1.0</td>\n      <td>2</td>\n      <td>1.0</td>\n      <td>3</td>\n      <td>b'Attchd'</td>\n      <td>b'Fin'</td>\n      <td>482.0</td>\n      <td>3</td>\n      <td>212.0</td>\n      <td>34.0</td>\n      <td>0.0</td>\n      <td>0.0</td>\n      <td>0.0</td>\n      <td>0.0</td>\n      <td>b'Minimum_Privacy'</td>\n      <td>0.0</td>\n      <td>2010.0</td>\n      <td>b'WD '</td>\n      <td>b'Normal'</td>\n      <td>30</td>\n      <td>33.517857</td>\n    </tr>\n    <tr>\n      <th>4</th>\n      <td>b'Two_Story_1946_and_Newer'</td>\n      <td>b'Residential_Low_Density'</td>\n      <td>78.0</td>\n      <td>9978.0</td>\n      <td>b'Slightly_Irregular'</td>\n      <td>b'Lvl'</td>\n      <td>b'Inside'</td>\n      <td>b'Gilbert'</td>\n      <td>b'Norm'</td>\n      <td>b'OneFam'</td>\n      <td>b'Two_Story'</td>\n      <td>5</td>\n      <td>5</td>\n      <td>1998.0</td>\n      <td>1998.0</td>\n      <td>b'Gable'</td>\n      <td>b'VinylSd'</td>\n      <td>b'VinylSd'</td>\n      <td>b'BrkFace'</td>\n      <td>20.0</td>\n      <td>1</td>\n      <td>2</td>\n      <td>b'PConc'</td>\n      <td>3</td>\n      <td>3</td>\n      <td>1</td>\n      <td>b'GLQ'</td>\n      <td>3.0</td>\n      <td>b'Unf'</td>\n      <td>0.0</td>\n      <td>324.0</td>\n      <td>926.0</td>\n      <td>4</td>\n      <td>926.0</td>\n      <td>678.0</td>\n      <td>0.0</td>\n      <td>1604.0</td>\n      <td>0.0</td>\n      <td>0.0</td>\n      <td>2.0</td>\n      <td>1.0</td>\n      <td>3.0</td>\n      <td>1.0</td>\n      <td>3</td>\n      <td>1.0</td>\n      <td>4</td>\n      <td>b'Attchd'</td>\n      <td>b'Fin'</td>\n      <td>470.0</td>\n      <td>3</td>\n      <td>360.0</td>\n      <td>36.0</td>\n      <td>0.0</td>\n      <td>0.0</td>\n      <td>0.0</td>\n      <td>0.0</td>\n      <td>b'No_Fence'</td>\n      <td>0.0</td>\n      <td>2010.0</td>\n      <td>b'WD '</td>\n      <td>b'Normal'</td>\n      <td>34</td>\n      <td>33.517857</td>\n    </tr>\n    <tr>\n      <th>...</th>\n      <td>...</td>\n      <td>...</td>\n      <td>...</td>\n      <td>...</td>\n      <td>...</td>\n      <td>...</td>\n      <td>...</td>\n      <td>...</td>\n      <td>...</td>\n      <td>...</td>\n      <td>...</td>\n      <td>...</td>\n      <td>...</td>\n      <td>...</td>\n      <td>...</td>\n      <td>...</td>\n      <td>...</td>\n      <td>...</td>\n      <td>...</td>\n      <td>...</td>\n      <td>...</td>\n      <td>...</td>\n      <td>...</td>\n      <td>...</td>\n      <td>...</td>\n      <td>...</td>\n      <td>...</td>\n      <td>...</td>\n      <td>...</td>\n      <td>...</td>\n      <td>...</td>\n      <td>...</td>\n      <td>...</td>\n      <td>...</td>\n      <td>...</td>\n      <td>...</td>\n      <td>...</td>\n      <td>...</td>\n      <td>...</td>\n      <td>...</td>\n      <td>...</td>\n      <td>...</td>\n      <td>...</td>\n      <td>...</td>\n      <td>...</td>\n      <td>...</td>\n      <td>...</td>\n      <td>...</td>\n      <td>...</td>\n      <td>...</td>\n      <td>...</td>\n      <td>...</td>\n      <td>...</td>\n      <td>...</td>\n      <td>...</td>\n      <td>...</td>\n      <td>...</td>\n      <td>...</td>\n      <td>...</td>\n      <td>...</td>\n      <td>...</td>\n      <td>...</td>\n      <td>...</td>\n    </tr>\n    <tr>\n      <th>1945</th>\n      <td>b'Duplex_All_Styles_and_Ages'</td>\n      <td>b'Residential_Low_Density'</td>\n      <td>63.0</td>\n      <td>9297.0</td>\n      <td>b'Regular'</td>\n      <td>b'Lvl'</td>\n      <td>b'Inside'</td>\n      <td>b'Mitchell'</td>\n      <td>b'Norm'</td>\n      <td>b'Duplex'</td>\n      <td>b'One_Story'</td>\n      <td>4</td>\n      <td>4</td>\n      <td>1976.0</td>\n      <td>1976.0</td>\n      <td>b'Gable'</td>\n      <td>b'Plywood'</td>\n      <td>b'Plywood'</td>\n      <td>b'None'</td>\n      <td>0.0</td>\n      <td>1</td>\n      <td>2</td>\n      <td>b'CBlock'</td>\n      <td>3</td>\n      <td>3</td>\n      <td>1</td>\n      <td>b'ALQ'</td>\n      <td>1.0</td>\n      <td>b'Unf'</td>\n      <td>0.0</td>\n      <td>122.0</td>\n      <td>1728.0</td>\n      <td>2</td>\n      <td>1728.0</td>\n      <td>0.0</td>\n      <td>0.0</td>\n      <td>1728.0</td>\n      <td>2.0</td>\n      <td>0.0</td>\n      <td>2.0</td>\n      <td>0.0</td>\n      <td>4.0</td>\n      <td>2.0</td>\n      <td>2</td>\n      <td>0.0</td>\n      <td>0</td>\n      <td>b'Detchd'</td>\n      <td>b'Unf'</td>\n      <td>560.0</td>\n      <td>3</td>\n      <td>0.0</td>\n      <td>0.0</td>\n      <td>0.0</td>\n      <td>0.0</td>\n      <td>0.0</td>\n      <td>0.0</td>\n      <td>b'No_Fence'</td>\n      <td>0.0</td>\n      <td>2006.0</td>\n      <td>b'WD '</td>\n      <td>b'Family'</td>\n      <td>25</td>\n      <td>29.649351</td>\n    </tr>\n    <tr>\n      <th>1946</th>\n      <td>b'One_Story_1946_and_Newer_All_Styles'</td>\n      <td>b'Residential_Low_Density'</td>\n      <td>80.0</td>\n      <td>17400.0</td>\n      <td>b'Regular'</td>\n      <td>b'Low'</td>\n      <td>b'Inside'</td>\n      <td>b'Mitchell'</td>\n      <td>b'Norm'</td>\n      <td>b'OneFam'</td>\n      <td>b'One_Story'</td>\n      <td>4</td>\n      <td>4</td>\n      <td>1977.0</td>\n      <td>1977.0</td>\n      <td>b'Gable'</td>\n      <td>b'BrkFace'</td>\n      <td>b'BrkFace'</td>\n      <td>b'None'</td>\n      <td>0.0</td>\n      <td>1</td>\n      <td>2</td>\n      <td>b'CBlock'</td>\n      <td>3</td>\n      <td>3</td>\n      <td>1</td>\n      <td>b'ALQ'</td>\n      <td>1.0</td>\n      <td>b'Unf'</td>\n      <td>0.0</td>\n      <td>190.0</td>\n      <td>1126.0</td>\n      <td>1</td>\n      <td>1126.0</td>\n      <td>0.0</td>\n      <td>0.0</td>\n      <td>1126.0</td>\n      <td>1.0</td>\n      <td>0.0</td>\n      <td>2.0</td>\n      <td>0.0</td>\n      <td>3.0</td>\n      <td>1.0</td>\n      <td>2</td>\n      <td>1.0</td>\n      <td>4</td>\n      <td>b'Attchd'</td>\n      <td>b'RFn'</td>\n      <td>484.0</td>\n      <td>3</td>\n      <td>295.0</td>\n      <td>41.0</td>\n      <td>0.0</td>\n      <td>0.0</td>\n      <td>0.0</td>\n      <td>0.0</td>\n      <td>b'No_Fence'</td>\n      <td>0.0</td>\n      <td>2006.0</td>\n      <td>b'WD '</td>\n      <td>b'Normal'</td>\n      <td>28</td>\n      <td>29.649351</td>\n    </tr>\n    <tr>\n      <th>1947</th>\n      <td>b'Split_or_Multilevel'</td>\n      <td>b'Residential_Low_Density'</td>\n      <td>37.0</td>\n      <td>7937.0</td>\n      <td>b'Slightly_Irregular'</td>\n      <td>b'Lvl'</td>\n      <td>b'CulDSac'</td>\n      <td>b'Mitchell'</td>\n      <td>b'Norm'</td>\n      <td>b'OneFam'</td>\n      <td>b'SLvl'</td>\n      <td>5</td>\n      <td>5</td>\n      <td>1984.0</td>\n      <td>1984.0</td>\n      <td>b'Gable'</td>\n      <td>b'HdBoard'</td>\n      <td>b'HdBoard'</td>\n      <td>b'None'</td>\n      <td>0.0</td>\n      <td>1</td>\n      <td>2</td>\n      <td>b'CBlock'</td>\n      <td>3</td>\n      <td>3</td>\n      <td>3</td>\n      <td>b'GLQ'</td>\n      <td>3.0</td>\n      <td>b'Unf'</td>\n      <td>0.0</td>\n      <td>184.0</td>\n      <td>1003.0</td>\n      <td>2</td>\n      <td>1003.0</td>\n      <td>0.0</td>\n      <td>0.0</td>\n      <td>1003.0</td>\n      <td>1.0</td>\n      <td>0.0</td>\n      <td>1.0</td>\n      <td>0.0</td>\n      <td>3.0</td>\n      <td>1.0</td>\n      <td>2</td>\n      <td>0.0</td>\n      <td>0</td>\n      <td>b'Detchd'</td>\n      <td>b'Unf'</td>\n      <td>588.0</td>\n      <td>3</td>\n      <td>120.0</td>\n      <td>0.0</td>\n      <td>0.0</td>\n      <td>0.0</td>\n      <td>0.0</td>\n      <td>0.0</td>\n      <td>b'Good_Privacy'</td>\n      <td>0.0</td>\n      <td>2006.0</td>\n      <td>b'WD '</td>\n      <td>b'Normal'</td>\n      <td>29</td>\n      <td>29.649351</td>\n    </tr>\n    <tr>\n      <th>1948</th>\n      <td>b'One_Story_1946_and_Newer_All_Styles'</td>\n      <td>b'Residential_Low_Density'</td>\n      <td>0.0</td>\n      <td>8885.0</td>\n      <td>b'Slightly_Irregular'</td>\n      <td>b'Low'</td>\n      <td>b'Inside'</td>\n      <td>b'Mitchell'</td>\n      <td>b'Norm'</td>\n      <td>b'OneFam'</td>\n      <td>b'One_Story'</td>\n      <td>4</td>\n      <td>4</td>\n      <td>1983.0</td>\n      <td>1983.0</td>\n      <td>b'Gable'</td>\n      <td>b'HdBoard'</td>\n      <td>b'HdBoard'</td>\n      <td>b'None'</td>\n      <td>0.0</td>\n      <td>1</td>\n      <td>2</td>\n      <td>b'CBlock'</td>\n      <td>4</td>\n      <td>3</td>\n      <td>3</td>\n      <td>b'BLQ'</td>\n      <td>2.0</td>\n      <td>b'ALQ'</td>\n      <td>324.0</td>\n      <td>239.0</td>\n      <td>864.0</td>\n      <td>2</td>\n      <td>902.0</td>\n      <td>0.0</td>\n      <td>0.0</td>\n      <td>902.0</td>\n      <td>1.0</td>\n      <td>0.0</td>\n      <td>1.0</td>\n      <td>0.0</td>\n      <td>2.0</td>\n      <td>1.0</td>\n      <td>2</td>\n      <td>0.0</td>\n      <td>0</td>\n      <td>b'Attchd'</td>\n      <td>b'Unf'</td>\n      <td>484.0</td>\n      <td>3</td>\n      <td>164.0</td>\n      <td>0.0</td>\n      <td>0.0</td>\n      <td>0.0</td>\n      <td>0.0</td>\n      <td>0.0</td>\n      <td>b'Minimum_Privacy'</td>\n      <td>0.0</td>\n      <td>2006.0</td>\n      <td>b'WD '</td>\n      <td>b'Normal'</td>\n      <td>28</td>\n      <td>29.649351</td>\n    </tr>\n    <tr>\n      <th>1949</th>\n      <td>b'Split_Foyer'</td>\n      <td>b'Residential_Low_Density'</td>\n      <td>62.0</td>\n      <td>10441.0</td>\n      <td>b'Regular'</td>\n      <td>b'Lvl'</td>\n      <td>b'Inside'</td>\n      <td>b'Mitchell'</td>\n      <td>b'Norm'</td>\n      <td>b'OneFam'</td>\n      <td>b'SFoyer'</td>\n      <td>4</td>\n      <td>4</td>\n      <td>1992.0</td>\n      <td>1992.0</td>\n      <td>b'Gable'</td>\n      <td>b'HdBoard'</td>\n      <td>b'Wd Shng'</td>\n      <td>b'None'</td>\n      <td>0.0</td>\n      <td>1</td>\n      <td>2</td>\n      <td>b'PConc'</td>\n      <td>4</td>\n      <td>3</td>\n      <td>3</td>\n      <td>b'GLQ'</td>\n      <td>3.0</td>\n      <td>b'Unf'</td>\n      <td>0.0</td>\n      <td>575.0</td>\n      <td>912.0</td>\n      <td>2</td>\n      <td>970.0</td>\n      <td>0.0</td>\n      <td>0.0</td>\n      <td>970.0</td>\n      <td>0.0</td>\n      <td>1.0</td>\n      <td>1.0</td>\n      <td>0.0</td>\n      <td>3.0</td>\n      <td>1.0</td>\n      <td>2</td>\n      <td>0.0</td>\n      <td>0</td>\n      <td>b'No_Garage'</td>\n      <td>b'No_Garage'</td>\n      <td>0.0</td>\n      <td>0</td>\n      <td>80.0</td>\n      <td>32.0</td>\n      <td>0.0</td>\n      <td>0.0</td>\n      <td>0.0</td>\n      <td>0.0</td>\n      <td>b'Minimum_Privacy'</td>\n      <td>700.0</td>\n      <td>2006.0</td>\n      <td>b'WD '</td>\n      <td>b'Normal'</td>\n      <td>25</td>\n      <td>29.649351</td>\n    </tr>\n  </tbody>\n</table>\n<p>1950 rows × 63 columns</p>\n</div>"
     },
     "metadata": {},
     "output_type": "display_data"
    },
    {
     "data": {
      "text/plain": "                                MS_SubClass                      MS_Zoning  Lot_Frontage  Lot_Area              Lot_Shape Land_Contour Lot_Config       Neighborhood Condition_1  Bldg_Type   House_Style  Overall_Qual  Overall_Cond  Year_Built  Year_Remod_Add Roof_Style Exterior_1st Exterior_2nd Mas_Vnr_Type  Mas_Vnr_Area  Exter_Qual  Exter_Cond Foundation  Bsmt_Qual  Bsmt_Cond  Bsmt_Exposure BsmtFin_Type_1  BsmtFin_SF_1 BsmtFin_Type_2  BsmtFin_SF_2  Bsmt_Unf_SF  Total_Bsmt_SF  Heating_QC  First_Flr_SF  Second_Flr_SF  Low_Qual_Fin_SF  Gr_Liv_Area  Bsmt_Full_Bath  Bsmt_Half_Bath  Full_Bath  Half_Bath  Bedroom_AbvGr  Kitchen_AbvGr  Kitchen_Qual  Fireplaces  Fireplace_Qu             Garage_Type Garage_Finish  Garage_Area  Garage_Qual  Wood_Deck_SF  Open_Porch_SF  Enclosed_Porch  Three_season_porch  Screen_Porch  Pool_Area            Fence  Misc_Val  Year_Sold Sale_Type Sale_Condition  All_Quality  Neighborhood_Score\n0    b'One_Story_1946_and_Newer_All_Styles'     b'Residential_Low_Density'          93.0   11160.0             b'Regular'       b'Lvl'  b'Corner'      b'North_Ames'     b'Norm'  b'OneFam'  b'One_Story'             6             4      1968.0          1968.0     b'Hip'   b'BrkFace'   b'BrkFace'      b'None'           0.0           2           2  b'CBlock'          3          3              1         b'ALQ'           1.0         b'Unf'           0.0       1045.0         2110.0           4        2110.0            0.0              0.0       2110.0             1.0             0.0        2.0        1.0            3.0            1.0             4         2.0             3               b'Attchd'        b'Fin'        522.0            3           0.0            0.0             0.0                 0.0           0.0        0.0      b'No_Fence'       0.0     2010.0    b'WD '      b'Normal'           35           28.570513\n1               b'Two_Story_1946_and_Newer'     b'Residential_Low_Density'          60.0    7500.0             b'Regular'       b'Lvl'  b'Inside'         b'Gilbert'     b'Norm'  b'OneFam'  b'Two_Story'             6             4      1999.0          1999.0   b'Gable'   b'VinylSd'   b'VinylSd'      b'None'           0.0           1           2   b'PConc'          3          3              1         b'Unf'           7.0         b'Unf'           0.0        994.0          994.0           3        1028.0          776.0              0.0       1804.0             0.0             0.0        2.0        1.0            3.0            1.0             3         1.0             3               b'Attchd'        b'Fin'        442.0            3         140.0           60.0             0.0                 0.0           0.0        0.0      b'No_Fence'       0.0     2010.0    b'WD '      b'Normal'           32           33.754717\n2               b'Two_Story_1946_and_Newer'     b'Residential_Low_Density'          75.0   10000.0  b'Slightly_Irregular'       b'Lvl'  b'Corner'         b'Gilbert'     b'Norm'  b'OneFam'  b'Two_Story'             5             4      1993.0          1994.0   b'Gable'   b'HdBoard'   b'HdBoard'      b'None'           0.0           1           2   b'PConc'          4          3              1         b'Unf'           7.0         b'Unf'           0.0        763.0          763.0           3         763.0          892.0              0.0       1655.0             0.0             0.0        2.0        1.0            3.0            1.0             2         1.0             3               b'Attchd'        b'Fin'        440.0            3         157.0           84.0             0.0                 0.0           0.0        0.0      b'No_Fence'       0.0     2010.0    b'WD '      b'Normal'           31           33.754717\n3    b'One_Story_1946_and_Newer_All_Styles'     b'Residential_Low_Density'           0.0    7980.0  b'Slightly_Irregular'       b'Lvl'  b'Inside'         b'Gilbert'     b'Norm'  b'OneFam'  b'One_Story'             5             6      1992.0          2007.0   b'Gable'   b'HdBoard'   b'HdBoard'      b'None'           0.0           1           3   b'PConc'          4          3              1         b'ALQ'           1.0         b'Unf'           0.0        233.0         1168.0           4        1187.0            0.0              0.0       1187.0             1.0             0.0        2.0        0.0            3.0            1.0             2         0.0             0               b'Attchd'        b'Fin'        420.0            3         483.0           21.0             0.0                 0.0           0.0        0.0  b'Good_Privacy'     500.0     2010.0    b'WD '      b'Normal'           32           33.754717\n4               b'Two_Story_1946_and_Newer'     b'Residential_Low_Density'          63.0    8402.0  b'Slightly_Irregular'       b'Lvl'  b'Inside'         b'Gilbert'     b'Norm'  b'OneFam'  b'Two_Story'             5             4      1998.0          1998.0   b'Gable'   b'VinylSd'   b'VinylSd'      b'None'           0.0           1           2   b'PConc'          4          3              1         b'Unf'           7.0         b'Unf'           0.0        789.0          789.0           3         789.0          676.0              0.0       1465.0             0.0             0.0        2.0        1.0            3.0            1.0             2         1.0             4               b'Attchd'        b'Fin'        393.0            3           0.0           75.0             0.0                 0.0           0.0        0.0      b'No_Fence'       0.0     2010.0    b'WD '      b'Normal'           32           33.754717\n..                                      ...                            ...           ...       ...                    ...          ...        ...                ...         ...        ...           ...           ...           ...         ...             ...        ...          ...          ...          ...           ...         ...         ...        ...        ...        ...            ...            ...           ...            ...           ...          ...            ...         ...           ...            ...              ...          ...             ...             ...        ...        ...            ...            ...           ...         ...           ...                     ...           ...          ...          ...           ...            ...             ...                 ...           ...        ...              ...       ...        ...       ...            ...          ...                 ...\n969           b'Duplex_All_Styles_and_Ages'     b'Residential_Low_Density'           0.0   11836.0  b'Slightly_Irregular'       b'Lvl'  b'Corner'        b'Mitchell'     b'Norm'  b'Duplex'  b'One_Story'             4             4      1970.0          1970.0   b'Gable'   b'Plywood'   b'Plywood'      b'None'           0.0           1           2  b'CBlock'          3          3              1         b'BLQ'           2.0         b'Unf'           0.0       1503.0         1652.0           2        1652.0            0.0              0.0       1652.0             0.0             0.0        2.0        0.0            4.0            2.0             2         0.0             0  b'More_Than_Two_Types'        b'Unf'        928.0            3           0.0            0.0             0.0                 0.0           0.0        0.0      b'No_Fence'       0.0     2006.0    b'WD '      b'Normal'           25           29.648649\n970         b'Two_Story_PUD_1946_and_Newer'  b'Residential_Medium_Density'          21.0    1936.0             b'Regular'       b'Lvl'  b'Inside'  b'Meadow_Village'     b'Norm'   b'Twnhs'  b'Two_Story'             3             6      1970.0          1970.0   b'Gable'   b'CemntBd'   b'CmentBd'      b'None'           0.0           1           2  b'CBlock'          3          3              1         b'Unf'           7.0         b'Unf'           0.0        546.0          546.0           3         546.0          546.0              0.0       1092.0             0.0             0.0        1.0        1.0            3.0            1.0             2         0.0             0            b'No_Garage'  b'No_Garage'          0.0            0           0.0            0.0             0.0                 0.0           0.0        0.0      b'No_Fence'       0.0     2006.0    b'WD '      b'Normal'           24           26.833333\n971  b'One_Story_1946_and_Newer_All_Styles'     b'Residential_Low_Density'         160.0   20000.0             b'Regular'       b'Lvl'  b'Inside'        b'Mitchell'     b'Norm'  b'OneFam'  b'One_Story'             4             6      1960.0          1996.0   b'Gable'   b'VinylSd'   b'VinylSd'      b'None'           0.0           1           2  b'CBlock'          3          3              1         b'ALQ'           1.0         b'Unf'           0.0          0.0         1224.0           4        1224.0            0.0              0.0       1224.0             1.0             0.0        1.0        0.0            4.0            1.0             2         1.0             3               b'Detchd'        b'Unf'        576.0            3         474.0            0.0             0.0                 0.0           0.0        0.0      b'No_Fence'       0.0     2006.0    b'WD '     b'Abnorml'           32           29.648649\n972  b'One_Story_1946_and_Newer_All_Styles'     b'Residential_Low_Density'          77.0   10010.0             b'Regular'       b'Lvl'  b'Inside'        b'Mitchell'     b'Norm'  b'OneFam'  b'One_Story'             4             4      1974.0          1975.0   b'Gable'   b'HdBoard'   b'HdBoard'      b'None'           0.0           1           2  b'CBlock'          4          3              3         b'ALQ'           1.0         b'LwQ'         123.0        195.0         1389.0           3        1389.0            0.0              0.0       1389.0             1.0             0.0        1.0        0.0            2.0            1.0             2         1.0             3               b'Attchd'        b'RFn'        418.0            3         240.0           38.0             0.0                 0.0           0.0        0.0      b'No_Fence'       0.0     2006.0    b'WD '      b'Normal'           32           29.648649\n973             b'Two_Story_1946_and_Newer'     b'Residential_Low_Density'          74.0    9627.0             b'Regular'       b'Lvl'  b'Inside'        b'Mitchell'     b'Norm'  b'OneFam'  b'Two_Story'             6             4      1993.0          1994.0   b'Gable'   b'HdBoard'   b'HdBoard'   b'BrkFace'          94.0           1           2   b'PConc'          4          3              3         b'LwQ'           4.0         b'Unf'           0.0        238.0          996.0           4         996.0         1004.0              0.0       2000.0             0.0             0.0        2.0        1.0            3.0            1.0             2         1.0             3               b'Attchd'        b'Fin'        650.0            3         190.0           48.0             0.0                 0.0           0.0        0.0      b'No_Fence'       0.0     2006.0    b'WD '      b'Normal'           35           29.648649\n\n[974 rows x 63 columns]",
      "text/html": "<div>\n<style scoped>\n    .dataframe tbody tr th:only-of-type {\n        vertical-align: middle;\n    }\n\n    .dataframe tbody tr th {\n        vertical-align: top;\n    }\n\n    .dataframe thead th {\n        text-align: right;\n    }\n</style>\n<table border=\"1\" class=\"dataframe\">\n  <thead>\n    <tr style=\"text-align: right;\">\n      <th></th>\n      <th>MS_SubClass</th>\n      <th>MS_Zoning</th>\n      <th>Lot_Frontage</th>\n      <th>Lot_Area</th>\n      <th>Lot_Shape</th>\n      <th>Land_Contour</th>\n      <th>Lot_Config</th>\n      <th>Neighborhood</th>\n      <th>Condition_1</th>\n      <th>Bldg_Type</th>\n      <th>House_Style</th>\n      <th>Overall_Qual</th>\n      <th>Overall_Cond</th>\n      <th>Year_Built</th>\n      <th>Year_Remod_Add</th>\n      <th>Roof_Style</th>\n      <th>Exterior_1st</th>\n      <th>Exterior_2nd</th>\n      <th>Mas_Vnr_Type</th>\n      <th>Mas_Vnr_Area</th>\n      <th>Exter_Qual</th>\n      <th>Exter_Cond</th>\n      <th>Foundation</th>\n      <th>Bsmt_Qual</th>\n      <th>Bsmt_Cond</th>\n      <th>Bsmt_Exposure</th>\n      <th>BsmtFin_Type_1</th>\n      <th>BsmtFin_SF_1</th>\n      <th>BsmtFin_Type_2</th>\n      <th>BsmtFin_SF_2</th>\n      <th>Bsmt_Unf_SF</th>\n      <th>Total_Bsmt_SF</th>\n      <th>Heating_QC</th>\n      <th>First_Flr_SF</th>\n      <th>Second_Flr_SF</th>\n      <th>Low_Qual_Fin_SF</th>\n      <th>Gr_Liv_Area</th>\n      <th>Bsmt_Full_Bath</th>\n      <th>Bsmt_Half_Bath</th>\n      <th>Full_Bath</th>\n      <th>Half_Bath</th>\n      <th>Bedroom_AbvGr</th>\n      <th>Kitchen_AbvGr</th>\n      <th>Kitchen_Qual</th>\n      <th>Fireplaces</th>\n      <th>Fireplace_Qu</th>\n      <th>Garage_Type</th>\n      <th>Garage_Finish</th>\n      <th>Garage_Area</th>\n      <th>Garage_Qual</th>\n      <th>Wood_Deck_SF</th>\n      <th>Open_Porch_SF</th>\n      <th>Enclosed_Porch</th>\n      <th>Three_season_porch</th>\n      <th>Screen_Porch</th>\n      <th>Pool_Area</th>\n      <th>Fence</th>\n      <th>Misc_Val</th>\n      <th>Year_Sold</th>\n      <th>Sale_Type</th>\n      <th>Sale_Condition</th>\n      <th>All_Quality</th>\n      <th>Neighborhood_Score</th>\n    </tr>\n  </thead>\n  <tbody>\n    <tr>\n      <th>0</th>\n      <td>b'One_Story_1946_and_Newer_All_Styles'</td>\n      <td>b'Residential_Low_Density'</td>\n      <td>93.0</td>\n      <td>11160.0</td>\n      <td>b'Regular'</td>\n      <td>b'Lvl'</td>\n      <td>b'Corner'</td>\n      <td>b'North_Ames'</td>\n      <td>b'Norm'</td>\n      <td>b'OneFam'</td>\n      <td>b'One_Story'</td>\n      <td>6</td>\n      <td>4</td>\n      <td>1968.0</td>\n      <td>1968.0</td>\n      <td>b'Hip'</td>\n      <td>b'BrkFace'</td>\n      <td>b'BrkFace'</td>\n      <td>b'None'</td>\n      <td>0.0</td>\n      <td>2</td>\n      <td>2</td>\n      <td>b'CBlock'</td>\n      <td>3</td>\n      <td>3</td>\n      <td>1</td>\n      <td>b'ALQ'</td>\n      <td>1.0</td>\n      <td>b'Unf'</td>\n      <td>0.0</td>\n      <td>1045.0</td>\n      <td>2110.0</td>\n      <td>4</td>\n      <td>2110.0</td>\n      <td>0.0</td>\n      <td>0.0</td>\n      <td>2110.0</td>\n      <td>1.0</td>\n      <td>0.0</td>\n      <td>2.0</td>\n      <td>1.0</td>\n      <td>3.0</td>\n      <td>1.0</td>\n      <td>4</td>\n      <td>2.0</td>\n      <td>3</td>\n      <td>b'Attchd'</td>\n      <td>b'Fin'</td>\n      <td>522.0</td>\n      <td>3</td>\n      <td>0.0</td>\n      <td>0.0</td>\n      <td>0.0</td>\n      <td>0.0</td>\n      <td>0.0</td>\n      <td>0.0</td>\n      <td>b'No_Fence'</td>\n      <td>0.0</td>\n      <td>2010.0</td>\n      <td>b'WD '</td>\n      <td>b'Normal'</td>\n      <td>35</td>\n      <td>28.570513</td>\n    </tr>\n    <tr>\n      <th>1</th>\n      <td>b'Two_Story_1946_and_Newer'</td>\n      <td>b'Residential_Low_Density'</td>\n      <td>60.0</td>\n      <td>7500.0</td>\n      <td>b'Regular'</td>\n      <td>b'Lvl'</td>\n      <td>b'Inside'</td>\n      <td>b'Gilbert'</td>\n      <td>b'Norm'</td>\n      <td>b'OneFam'</td>\n      <td>b'Two_Story'</td>\n      <td>6</td>\n      <td>4</td>\n      <td>1999.0</td>\n      <td>1999.0</td>\n      <td>b'Gable'</td>\n      <td>b'VinylSd'</td>\n      <td>b'VinylSd'</td>\n      <td>b'None'</td>\n      <td>0.0</td>\n      <td>1</td>\n      <td>2</td>\n      <td>b'PConc'</td>\n      <td>3</td>\n      <td>3</td>\n      <td>1</td>\n      <td>b'Unf'</td>\n      <td>7.0</td>\n      <td>b'Unf'</td>\n      <td>0.0</td>\n      <td>994.0</td>\n      <td>994.0</td>\n      <td>3</td>\n      <td>1028.0</td>\n      <td>776.0</td>\n      <td>0.0</td>\n      <td>1804.0</td>\n      <td>0.0</td>\n      <td>0.0</td>\n      <td>2.0</td>\n      <td>1.0</td>\n      <td>3.0</td>\n      <td>1.0</td>\n      <td>3</td>\n      <td>1.0</td>\n      <td>3</td>\n      <td>b'Attchd'</td>\n      <td>b'Fin'</td>\n      <td>442.0</td>\n      <td>3</td>\n      <td>140.0</td>\n      <td>60.0</td>\n      <td>0.0</td>\n      <td>0.0</td>\n      <td>0.0</td>\n      <td>0.0</td>\n      <td>b'No_Fence'</td>\n      <td>0.0</td>\n      <td>2010.0</td>\n      <td>b'WD '</td>\n      <td>b'Normal'</td>\n      <td>32</td>\n      <td>33.754717</td>\n    </tr>\n    <tr>\n      <th>2</th>\n      <td>b'Two_Story_1946_and_Newer'</td>\n      <td>b'Residential_Low_Density'</td>\n      <td>75.0</td>\n      <td>10000.0</td>\n      <td>b'Slightly_Irregular'</td>\n      <td>b'Lvl'</td>\n      <td>b'Corner'</td>\n      <td>b'Gilbert'</td>\n      <td>b'Norm'</td>\n      <td>b'OneFam'</td>\n      <td>b'Two_Story'</td>\n      <td>5</td>\n      <td>4</td>\n      <td>1993.0</td>\n      <td>1994.0</td>\n      <td>b'Gable'</td>\n      <td>b'HdBoard'</td>\n      <td>b'HdBoard'</td>\n      <td>b'None'</td>\n      <td>0.0</td>\n      <td>1</td>\n      <td>2</td>\n      <td>b'PConc'</td>\n      <td>4</td>\n      <td>3</td>\n      <td>1</td>\n      <td>b'Unf'</td>\n      <td>7.0</td>\n      <td>b'Unf'</td>\n      <td>0.0</td>\n      <td>763.0</td>\n      <td>763.0</td>\n      <td>3</td>\n      <td>763.0</td>\n      <td>892.0</td>\n      <td>0.0</td>\n      <td>1655.0</td>\n      <td>0.0</td>\n      <td>0.0</td>\n      <td>2.0</td>\n      <td>1.0</td>\n      <td>3.0</td>\n      <td>1.0</td>\n      <td>2</td>\n      <td>1.0</td>\n      <td>3</td>\n      <td>b'Attchd'</td>\n      <td>b'Fin'</td>\n      <td>440.0</td>\n      <td>3</td>\n      <td>157.0</td>\n      <td>84.0</td>\n      <td>0.0</td>\n      <td>0.0</td>\n      <td>0.0</td>\n      <td>0.0</td>\n      <td>b'No_Fence'</td>\n      <td>0.0</td>\n      <td>2010.0</td>\n      <td>b'WD '</td>\n      <td>b'Normal'</td>\n      <td>31</td>\n      <td>33.754717</td>\n    </tr>\n    <tr>\n      <th>3</th>\n      <td>b'One_Story_1946_and_Newer_All_Styles'</td>\n      <td>b'Residential_Low_Density'</td>\n      <td>0.0</td>\n      <td>7980.0</td>\n      <td>b'Slightly_Irregular'</td>\n      <td>b'Lvl'</td>\n      <td>b'Inside'</td>\n      <td>b'Gilbert'</td>\n      <td>b'Norm'</td>\n      <td>b'OneFam'</td>\n      <td>b'One_Story'</td>\n      <td>5</td>\n      <td>6</td>\n      <td>1992.0</td>\n      <td>2007.0</td>\n      <td>b'Gable'</td>\n      <td>b'HdBoard'</td>\n      <td>b'HdBoard'</td>\n      <td>b'None'</td>\n      <td>0.0</td>\n      <td>1</td>\n      <td>3</td>\n      <td>b'PConc'</td>\n      <td>4</td>\n      <td>3</td>\n      <td>1</td>\n      <td>b'ALQ'</td>\n      <td>1.0</td>\n      <td>b'Unf'</td>\n      <td>0.0</td>\n      <td>233.0</td>\n      <td>1168.0</td>\n      <td>4</td>\n      <td>1187.0</td>\n      <td>0.0</td>\n      <td>0.0</td>\n      <td>1187.0</td>\n      <td>1.0</td>\n      <td>0.0</td>\n      <td>2.0</td>\n      <td>0.0</td>\n      <td>3.0</td>\n      <td>1.0</td>\n      <td>2</td>\n      <td>0.0</td>\n      <td>0</td>\n      <td>b'Attchd'</td>\n      <td>b'Fin'</td>\n      <td>420.0</td>\n      <td>3</td>\n      <td>483.0</td>\n      <td>21.0</td>\n      <td>0.0</td>\n      <td>0.0</td>\n      <td>0.0</td>\n      <td>0.0</td>\n      <td>b'Good_Privacy'</td>\n      <td>500.0</td>\n      <td>2010.0</td>\n      <td>b'WD '</td>\n      <td>b'Normal'</td>\n      <td>32</td>\n      <td>33.754717</td>\n    </tr>\n    <tr>\n      <th>4</th>\n      <td>b'Two_Story_1946_and_Newer'</td>\n      <td>b'Residential_Low_Density'</td>\n      <td>63.0</td>\n      <td>8402.0</td>\n      <td>b'Slightly_Irregular'</td>\n      <td>b'Lvl'</td>\n      <td>b'Inside'</td>\n      <td>b'Gilbert'</td>\n      <td>b'Norm'</td>\n      <td>b'OneFam'</td>\n      <td>b'Two_Story'</td>\n      <td>5</td>\n      <td>4</td>\n      <td>1998.0</td>\n      <td>1998.0</td>\n      <td>b'Gable'</td>\n      <td>b'VinylSd'</td>\n      <td>b'VinylSd'</td>\n      <td>b'None'</td>\n      <td>0.0</td>\n      <td>1</td>\n      <td>2</td>\n      <td>b'PConc'</td>\n      <td>4</td>\n      <td>3</td>\n      <td>1</td>\n      <td>b'Unf'</td>\n      <td>7.0</td>\n      <td>b'Unf'</td>\n      <td>0.0</td>\n      <td>789.0</td>\n      <td>789.0</td>\n      <td>3</td>\n      <td>789.0</td>\n      <td>676.0</td>\n      <td>0.0</td>\n      <td>1465.0</td>\n      <td>0.0</td>\n      <td>0.0</td>\n      <td>2.0</td>\n      <td>1.0</td>\n      <td>3.0</td>\n      <td>1.0</td>\n      <td>2</td>\n      <td>1.0</td>\n      <td>4</td>\n      <td>b'Attchd'</td>\n      <td>b'Fin'</td>\n      <td>393.0</td>\n      <td>3</td>\n      <td>0.0</td>\n      <td>75.0</td>\n      <td>0.0</td>\n      <td>0.0</td>\n      <td>0.0</td>\n      <td>0.0</td>\n      <td>b'No_Fence'</td>\n      <td>0.0</td>\n      <td>2010.0</td>\n      <td>b'WD '</td>\n      <td>b'Normal'</td>\n      <td>32</td>\n      <td>33.754717</td>\n    </tr>\n    <tr>\n      <th>...</th>\n      <td>...</td>\n      <td>...</td>\n      <td>...</td>\n      <td>...</td>\n      <td>...</td>\n      <td>...</td>\n      <td>...</td>\n      <td>...</td>\n      <td>...</td>\n      <td>...</td>\n      <td>...</td>\n      <td>...</td>\n      <td>...</td>\n      <td>...</td>\n      <td>...</td>\n      <td>...</td>\n      <td>...</td>\n      <td>...</td>\n      <td>...</td>\n      <td>...</td>\n      <td>...</td>\n      <td>...</td>\n      <td>...</td>\n      <td>...</td>\n      <td>...</td>\n      <td>...</td>\n      <td>...</td>\n      <td>...</td>\n      <td>...</td>\n      <td>...</td>\n      <td>...</td>\n      <td>...</td>\n      <td>...</td>\n      <td>...</td>\n      <td>...</td>\n      <td>...</td>\n      <td>...</td>\n      <td>...</td>\n      <td>...</td>\n      <td>...</td>\n      <td>...</td>\n      <td>...</td>\n      <td>...</td>\n      <td>...</td>\n      <td>...</td>\n      <td>...</td>\n      <td>...</td>\n      <td>...</td>\n      <td>...</td>\n      <td>...</td>\n      <td>...</td>\n      <td>...</td>\n      <td>...</td>\n      <td>...</td>\n      <td>...</td>\n      <td>...</td>\n      <td>...</td>\n      <td>...</td>\n      <td>...</td>\n      <td>...</td>\n      <td>...</td>\n      <td>...</td>\n      <td>...</td>\n    </tr>\n    <tr>\n      <th>969</th>\n      <td>b'Duplex_All_Styles_and_Ages'</td>\n      <td>b'Residential_Low_Density'</td>\n      <td>0.0</td>\n      <td>11836.0</td>\n      <td>b'Slightly_Irregular'</td>\n      <td>b'Lvl'</td>\n      <td>b'Corner'</td>\n      <td>b'Mitchell'</td>\n      <td>b'Norm'</td>\n      <td>b'Duplex'</td>\n      <td>b'One_Story'</td>\n      <td>4</td>\n      <td>4</td>\n      <td>1970.0</td>\n      <td>1970.0</td>\n      <td>b'Gable'</td>\n      <td>b'Plywood'</td>\n      <td>b'Plywood'</td>\n      <td>b'None'</td>\n      <td>0.0</td>\n      <td>1</td>\n      <td>2</td>\n      <td>b'CBlock'</td>\n      <td>3</td>\n      <td>3</td>\n      <td>1</td>\n      <td>b'BLQ'</td>\n      <td>2.0</td>\n      <td>b'Unf'</td>\n      <td>0.0</td>\n      <td>1503.0</td>\n      <td>1652.0</td>\n      <td>2</td>\n      <td>1652.0</td>\n      <td>0.0</td>\n      <td>0.0</td>\n      <td>1652.0</td>\n      <td>0.0</td>\n      <td>0.0</td>\n      <td>2.0</td>\n      <td>0.0</td>\n      <td>4.0</td>\n      <td>2.0</td>\n      <td>2</td>\n      <td>0.0</td>\n      <td>0</td>\n      <td>b'More_Than_Two_Types'</td>\n      <td>b'Unf'</td>\n      <td>928.0</td>\n      <td>3</td>\n      <td>0.0</td>\n      <td>0.0</td>\n      <td>0.0</td>\n      <td>0.0</td>\n      <td>0.0</td>\n      <td>0.0</td>\n      <td>b'No_Fence'</td>\n      <td>0.0</td>\n      <td>2006.0</td>\n      <td>b'WD '</td>\n      <td>b'Normal'</td>\n      <td>25</td>\n      <td>29.648649</td>\n    </tr>\n    <tr>\n      <th>970</th>\n      <td>b'Two_Story_PUD_1946_and_Newer'</td>\n      <td>b'Residential_Medium_Density'</td>\n      <td>21.0</td>\n      <td>1936.0</td>\n      <td>b'Regular'</td>\n      <td>b'Lvl'</td>\n      <td>b'Inside'</td>\n      <td>b'Meadow_Village'</td>\n      <td>b'Norm'</td>\n      <td>b'Twnhs'</td>\n      <td>b'Two_Story'</td>\n      <td>3</td>\n      <td>6</td>\n      <td>1970.0</td>\n      <td>1970.0</td>\n      <td>b'Gable'</td>\n      <td>b'CemntBd'</td>\n      <td>b'CmentBd'</td>\n      <td>b'None'</td>\n      <td>0.0</td>\n      <td>1</td>\n      <td>2</td>\n      <td>b'CBlock'</td>\n      <td>3</td>\n      <td>3</td>\n      <td>1</td>\n      <td>b'Unf'</td>\n      <td>7.0</td>\n      <td>b'Unf'</td>\n      <td>0.0</td>\n      <td>546.0</td>\n      <td>546.0</td>\n      <td>3</td>\n      <td>546.0</td>\n      <td>546.0</td>\n      <td>0.0</td>\n      <td>1092.0</td>\n      <td>0.0</td>\n      <td>0.0</td>\n      <td>1.0</td>\n      <td>1.0</td>\n      <td>3.0</td>\n      <td>1.0</td>\n      <td>2</td>\n      <td>0.0</td>\n      <td>0</td>\n      <td>b'No_Garage'</td>\n      <td>b'No_Garage'</td>\n      <td>0.0</td>\n      <td>0</td>\n      <td>0.0</td>\n      <td>0.0</td>\n      <td>0.0</td>\n      <td>0.0</td>\n      <td>0.0</td>\n      <td>0.0</td>\n      <td>b'No_Fence'</td>\n      <td>0.0</td>\n      <td>2006.0</td>\n      <td>b'WD '</td>\n      <td>b'Normal'</td>\n      <td>24</td>\n      <td>26.833333</td>\n    </tr>\n    <tr>\n      <th>971</th>\n      <td>b'One_Story_1946_and_Newer_All_Styles'</td>\n      <td>b'Residential_Low_Density'</td>\n      <td>160.0</td>\n      <td>20000.0</td>\n      <td>b'Regular'</td>\n      <td>b'Lvl'</td>\n      <td>b'Inside'</td>\n      <td>b'Mitchell'</td>\n      <td>b'Norm'</td>\n      <td>b'OneFam'</td>\n      <td>b'One_Story'</td>\n      <td>4</td>\n      <td>6</td>\n      <td>1960.0</td>\n      <td>1996.0</td>\n      <td>b'Gable'</td>\n      <td>b'VinylSd'</td>\n      <td>b'VinylSd'</td>\n      <td>b'None'</td>\n      <td>0.0</td>\n      <td>1</td>\n      <td>2</td>\n      <td>b'CBlock'</td>\n      <td>3</td>\n      <td>3</td>\n      <td>1</td>\n      <td>b'ALQ'</td>\n      <td>1.0</td>\n      <td>b'Unf'</td>\n      <td>0.0</td>\n      <td>0.0</td>\n      <td>1224.0</td>\n      <td>4</td>\n      <td>1224.0</td>\n      <td>0.0</td>\n      <td>0.0</td>\n      <td>1224.0</td>\n      <td>1.0</td>\n      <td>0.0</td>\n      <td>1.0</td>\n      <td>0.0</td>\n      <td>4.0</td>\n      <td>1.0</td>\n      <td>2</td>\n      <td>1.0</td>\n      <td>3</td>\n      <td>b'Detchd'</td>\n      <td>b'Unf'</td>\n      <td>576.0</td>\n      <td>3</td>\n      <td>474.0</td>\n      <td>0.0</td>\n      <td>0.0</td>\n      <td>0.0</td>\n      <td>0.0</td>\n      <td>0.0</td>\n      <td>b'No_Fence'</td>\n      <td>0.0</td>\n      <td>2006.0</td>\n      <td>b'WD '</td>\n      <td>b'Abnorml'</td>\n      <td>32</td>\n      <td>29.648649</td>\n    </tr>\n    <tr>\n      <th>972</th>\n      <td>b'One_Story_1946_and_Newer_All_Styles'</td>\n      <td>b'Residential_Low_Density'</td>\n      <td>77.0</td>\n      <td>10010.0</td>\n      <td>b'Regular'</td>\n      <td>b'Lvl'</td>\n      <td>b'Inside'</td>\n      <td>b'Mitchell'</td>\n      <td>b'Norm'</td>\n      <td>b'OneFam'</td>\n      <td>b'One_Story'</td>\n      <td>4</td>\n      <td>4</td>\n      <td>1974.0</td>\n      <td>1975.0</td>\n      <td>b'Gable'</td>\n      <td>b'HdBoard'</td>\n      <td>b'HdBoard'</td>\n      <td>b'None'</td>\n      <td>0.0</td>\n      <td>1</td>\n      <td>2</td>\n      <td>b'CBlock'</td>\n      <td>4</td>\n      <td>3</td>\n      <td>3</td>\n      <td>b'ALQ'</td>\n      <td>1.0</td>\n      <td>b'LwQ'</td>\n      <td>123.0</td>\n      <td>195.0</td>\n      <td>1389.0</td>\n      <td>3</td>\n      <td>1389.0</td>\n      <td>0.0</td>\n      <td>0.0</td>\n      <td>1389.0</td>\n      <td>1.0</td>\n      <td>0.0</td>\n      <td>1.0</td>\n      <td>0.0</td>\n      <td>2.0</td>\n      <td>1.0</td>\n      <td>2</td>\n      <td>1.0</td>\n      <td>3</td>\n      <td>b'Attchd'</td>\n      <td>b'RFn'</td>\n      <td>418.0</td>\n      <td>3</td>\n      <td>240.0</td>\n      <td>38.0</td>\n      <td>0.0</td>\n      <td>0.0</td>\n      <td>0.0</td>\n      <td>0.0</td>\n      <td>b'No_Fence'</td>\n      <td>0.0</td>\n      <td>2006.0</td>\n      <td>b'WD '</td>\n      <td>b'Normal'</td>\n      <td>32</td>\n      <td>29.648649</td>\n    </tr>\n    <tr>\n      <th>973</th>\n      <td>b'Two_Story_1946_and_Newer'</td>\n      <td>b'Residential_Low_Density'</td>\n      <td>74.0</td>\n      <td>9627.0</td>\n      <td>b'Regular'</td>\n      <td>b'Lvl'</td>\n      <td>b'Inside'</td>\n      <td>b'Mitchell'</td>\n      <td>b'Norm'</td>\n      <td>b'OneFam'</td>\n      <td>b'Two_Story'</td>\n      <td>6</td>\n      <td>4</td>\n      <td>1993.0</td>\n      <td>1994.0</td>\n      <td>b'Gable'</td>\n      <td>b'HdBoard'</td>\n      <td>b'HdBoard'</td>\n      <td>b'BrkFace'</td>\n      <td>94.0</td>\n      <td>1</td>\n      <td>2</td>\n      <td>b'PConc'</td>\n      <td>4</td>\n      <td>3</td>\n      <td>3</td>\n      <td>b'LwQ'</td>\n      <td>4.0</td>\n      <td>b'Unf'</td>\n      <td>0.0</td>\n      <td>238.0</td>\n      <td>996.0</td>\n      <td>4</td>\n      <td>996.0</td>\n      <td>1004.0</td>\n      <td>0.0</td>\n      <td>2000.0</td>\n      <td>0.0</td>\n      <td>0.0</td>\n      <td>2.0</td>\n      <td>1.0</td>\n      <td>3.0</td>\n      <td>1.0</td>\n      <td>2</td>\n      <td>1.0</td>\n      <td>3</td>\n      <td>b'Attchd'</td>\n      <td>b'Fin'</td>\n      <td>650.0</td>\n      <td>3</td>\n      <td>190.0</td>\n      <td>48.0</td>\n      <td>0.0</td>\n      <td>0.0</td>\n      <td>0.0</td>\n      <td>0.0</td>\n      <td>b'No_Fence'</td>\n      <td>0.0</td>\n      <td>2006.0</td>\n      <td>b'WD '</td>\n      <td>b'Normal'</td>\n      <td>35</td>\n      <td>29.648649</td>\n    </tr>\n  </tbody>\n</table>\n<p>974 rows × 63 columns</p>\n</div>"
     },
     "metadata": {},
     "output_type": "display_data"
    }
   ],
   "source": [
    "import pandas as pd\n",
    "import numpy as np\n",
    "import warnings\n",
    "from sklearn.preprocessing import StandardScaler\n",
    "\n",
    "warnings.filterwarnings('ignore')\n",
    "pd.set_option('display.max_rows', 500)\n",
    "pd.set_option('display.max_columns', 500)\n",
    "pd.set_option('display.width', 1000)\n",
    "\n",
    "X_train = pd.read_csv('x_train_cleaned.csv')\n",
    "X_test = pd.read_csv('x_test_cleaned.csv')\n",
    "y_train = pd.read_csv('y_train_cleaned.csv')\n",
    "y_test = pd.read_csv('y_test_cleaned.csv')\n",
    "\n",
    "quality_and_conditions=[]\n",
    "\n",
    "for columns in X_train.columns:\n",
    "    if '_Qual' in columns or '_Cond' in columns:\n",
    "        quality_and_conditions.append(columns)\n",
    "\n",
    "quality_and_conditions.remove('Sale_Condition')\n",
    "quality_and_conditions.remove('Low_Qual_Fin_SF')\n",
    "quality_and_conditions.append('Bsmt_Exposure')\n",
    "quality_and_conditions.append('Heating_QC')\n",
    "quality_and_conditions.append('Fireplace_Qu')\n",
    "\n",
    "X_train.loc[:,'All_Quality'] = X_train.loc[:, quality_and_conditions].sum(axis=1)\n",
    "\n",
    "# perform groupby on `Neighborhood`, then aggregate via averaging\n",
    "neighborhood_scores = X_train.loc[:, ['Neighborhood','All_Quality']].groupby('Neighborhood').agg(Mean_Agg_Score=('All_Quality', np.mean))\n",
    "\n",
    "# sort dataframe by descending order of the mean score\n",
    "neighborhood_scores.sort_values(by='Mean_Agg_Score', ascending=False, inplace=True)\n",
    "\n",
    "# extract out neighborhood names from the index\n",
    "neighborhood_scores.loc[:,'Neighborhood'] = neighborhood_scores.index\n",
    "\n",
    "# reset index to the usual numeric form\n",
    "neighborhood_scores.reset_index(drop=True, inplace=True)\n",
    "\n",
    "# re-arrange columns to being Neighborhood to left-most position\n",
    "neighborhood_scores = neighborhood_scores.loc[:, ['Neighborhood', 'Mean_Agg_Score']]\n",
    "\n",
    "\n",
    "def get_score(x):\n",
    "    return neighborhood_scores.loc[neighborhood_scores.loc[:,'Neighborhood']==x,'Mean_Agg_Score'].values[0]\n",
    "\n",
    "# build the newly engineered attribute, call it Neighborhood Score\n",
    "X_train.loc[:,'Neighborhood_Score'] = X_train.loc[:,'Neighborhood'].apply(get_score)\n",
    "display(X_train)\n",
    "\n",
    "\n",
    "X_test.loc[:,'All_Quality'] = X_test.loc[:, quality_and_conditions].sum(axis=1)\n",
    "\n",
    "# perform groupby on `Neighborhood`, then aggregate via averaging\n",
    "neighborhood_scores = X_test.loc[:, ['Neighborhood','All_Quality']].groupby('Neighborhood').agg(Mean_Agg_Score=('All_Quality', np.mean))\n",
    "\n",
    "# sort dataframe by descending order of the mean score\n",
    "neighborhood_scores.sort_values(by='Mean_Agg_Score', ascending=False, inplace=True)\n",
    "\n",
    "# extract out neighborhood names from the index\n",
    "neighborhood_scores.loc[:,'Neighborhood'] = neighborhood_scores.index\n",
    "\n",
    "# reset index to the usual numeric form\n",
    "neighborhood_scores.reset_index(drop=True, inplace=True)\n",
    "\n",
    "# re-arrange columns to being Neighborhood to left-most position\n",
    "neighborhood_scores = neighborhood_scores.loc[:, ['Neighborhood', 'Mean_Agg_Score']]\n",
    "\n",
    "X_test.loc[:,'Neighborhood_Score'] = X_test.loc[:,'Neighborhood'].apply(get_score)\n",
    "display(X_test)\n"
   ],
   "metadata": {
    "collapsed": false
   }
  },
  {
   "cell_type": "markdown",
   "source": [
    "Creiamo una nuova feature Total_Qual che è pari alla somma di tutti i campi qualitativi\n",
    "Creiamo una nuova feature Neighborhood_Score che si basa su Total_Qual per assegnargli un valore qualitativo al posto di nominale\n",
    "\n",
    "TODO"
   ],
   "metadata": {
    "collapsed": false
   }
  },
  {
   "cell_type": "markdown",
   "source": [],
   "metadata": {
    "collapsed": false
   }
  },
  {
   "cell_type": "code",
   "execution_count": 130,
   "outputs": [
    {
     "data": {
      "text/plain": "0       272.0\n1       260.0\n2       429.0\n3       246.0\n4       396.0\n        ...  \n1945      0.0\n1946    336.0\n1947    120.0\n1948    164.0\n1949    112.0\nName: Total_External_SF, Length: 1950, dtype: float64"
     },
     "metadata": {},
     "output_type": "display_data"
    }
   ],
   "source": [
    "porch = ['Wood_Deck_SF', 'Open_Porch_SF', 'Enclosed_Porch', 'Three_season_porch', 'Screen_Porch']\n",
    "X_train.loc[:,'Total_External_SF'] = X_train.loc[:, porch].sum(axis=1)\n",
    "X_test.loc[:,'Total_External_SF'] = X_test.loc[:, porch].sum(axis=1)\n",
    "\n",
    "display(X_train['Total_External_SF'])"
   ],
   "metadata": {
    "collapsed": false
   }
  },
  {
   "cell_type": "markdown",
   "source": [
    "# Total_External_SF\n",
    "Creating a new feature that represents the surface of all porch or decks outside the property, trying to combine similar information into a single feature."
   ],
   "metadata": {
    "collapsed": false
   }
  },
  {
   "cell_type": "code",
   "execution_count": 131,
   "outputs": [
    {
     "data": {
      "text/plain": "0       2823.0\n1       2238.0\n2       2564.0\n3       2902.0\n4       2676.0\n         ...  \n1945    3894.0\n1946    2546.0\n1947    2410.0\n1948    2011.0\n1949    1307.0\nName: Total_SF, Length: 1950, dtype: float64"
     },
     "metadata": {},
     "output_type": "display_data"
    }
   ],
   "source": [
    "surface = ['Total_Finished_Bsmt_SF', 'First_Flr_SF', 'Second_Flr_SF', 'Garage_Area']\n",
    "\n",
    "X_train['Total_Finished_Bsmt_SF'] = X_train['Total_Bsmt_SF'] - X_train['Bsmt_Unf_SF']\n",
    "X_test['Total_Finished_Bsmt_SF'] = X_test['Total_Bsmt_SF'] - X_test['Bsmt_Unf_SF']\n",
    "\n",
    "X_train.loc[:, 'Total_SF'] = X_train.loc[:, surface].sum(axis=1)\n",
    "X_test.loc[:, 'Total_SF'] = X_test.loc[:, surface].sum(axis=1)\n",
    "#vediamo se fare anche Total senza unfinished\n",
    "\n",
    "display(X_train['Total_SF'])"
   ],
   "metadata": {
    "collapsed": false
   }
  },
  {
   "cell_type": "markdown",
   "source": [
    "# Total_SF\n",
    "Creating a new feature that represents the surface of the inside of the property, trying to combine similar information into a single feature."
   ],
   "metadata": {
    "collapsed": false
   }
  },
  {
   "cell_type": "code",
   "execution_count": 132,
   "outputs": [
    {
     "data": {
      "text/plain": "0       2.0\n1       1.0\n2       2.0\n3       3.0\n4       3.0\n       ... \n1945    4.0\n1946    3.0\n1947    2.0\n1948    2.0\n1949    2.0\nName: Total_Baths, Length: 1950, dtype: float64"
     },
     "metadata": {},
     "output_type": "display_data"
    }
   ],
   "source": [
    "baths = ['Full_Bath', 'Half_Bath', 'Bsmt_Full_Bath', 'Bsmt_Half_Bath']\n",
    "\n",
    "X_train.loc[:, 'Total_Baths'] = X_train.loc[:, baths].sum(axis=1)\n",
    "X_test.loc[:, 'Total_Baths'] = X_test.loc[:, baths].sum(axis=1)\n",
    "\n",
    "display(X_train['Total_Baths'])"
   ],
   "metadata": {
    "collapsed": false
   }
  },
  {
   "cell_type": "markdown",
   "source": [
    "# Total_Baths\n",
    "Creating a new feature that represents the sum of all the types of bathrooms, trying to add new information to the dataset."
   ],
   "metadata": {
    "collapsed": false
   }
  },
  {
   "cell_type": "code",
   "execution_count": 133,
   "outputs": [
    {
     "data": {
      "text/plain": "0       50.0\n1       49.0\n2       52.0\n3       13.0\n4       12.0\n        ... \n1945    30.0\n1946    29.0\n1947    22.0\n1948    23.0\n1949    14.0\nName: Year_To_Sell, Length: 1950, dtype: float64"
     },
     "metadata": {},
     "output_type": "display_data"
    }
   ],
   "source": [
    "X_train.loc[:,'Year_To_Sell'] = X_train.loc[:,'Year_Sold'] - X_train.loc[:,'Year_Built']\n",
    "X_test.loc[:,'Year_To_Sell'] = X_test.loc[:,'Year_Sold'] - X_test.loc[:,'Year_Built']\n",
    "\n",
    "display(X_train['Year_To_Sell'])"
   ],
   "metadata": {
    "collapsed": false
   }
  },
  {
   "cell_type": "markdown",
   "source": [
    "# Year_To_Sell\n",
    "Creating a new feature that represents the span of years required to sell the house, trying to add new information to the dataset."
   ],
   "metadata": {
    "collapsed": false
   }
  },
  {
   "cell_type": "code",
   "execution_count": 134,
   "outputs": [
    {
     "name": "stdout",
     "output_type": "stream",
     "text": [
      "x_train_v2 shape after get_dummies: (1950, 227)\n",
      "x_test_v2 shape after get_dummies: (974, 215)\n",
      "'MS_SubClass_b'One_Story_with_Finished_Attic_All_Ages'' found missing in x_test_v2, initialising new column with 0s.\n",
      "'MS_SubClass_b'One_and_Half_Story_PUD_All_Ages'' found missing in x_test_v2, initialising new column with 0s.\n",
      "'MS_Zoning_b'I_all'' found missing in x_test_v2, initialising new column with 0s.\n",
      "'Neighborhood_b'Green_Hills'' found missing in x_test_v2, initialising new column with 0s.\n",
      "'Neighborhood_b'Greens'' found missing in x_test_v2, initialising new column with 0s.\n",
      "'Neighborhood_b'Landmark'' found missing in x_test_v2, initialising new column with 0s.\n",
      "'Exterior_1st_b'AsphShn'' found missing in x_test_v2, initialising new column with 0s.\n",
      "'Exterior_1st_b'ImStucc'' found missing in x_test_v2, initialising new column with 0s.\n",
      "'Exterior_1st_b'PreCast'' found missing in x_test_v2, initialising new column with 0s.\n",
      "'Exterior_1st_b'Stone'' found missing in x_test_v2, initialising new column with 0s.\n",
      "'Exterior_2nd_b'AsphShn'' found missing in x_test_v2, initialising new column with 0s.\n",
      "'Exterior_2nd_b'Other'' found missing in x_test_v2, initialising new column with 0s.\n",
      "'Exterior_2nd_b'PreCast'' found missing in x_test_v2, initialising new column with 0s.\n",
      "'Mas_Vnr_Type_b'CBlock'' found missing in x_test_v2, initialising new column with 0s.\n",
      "\n",
      "\n",
      "'Exterior_2nd_b'CBlock'' found missing in x_train_v2, initialising new column with 0s.\n",
      "'Sale_Type_b'VWD'' found missing in x_train_v2, initialising new column with 0s.\n",
      "\n",
      "\n",
      "Check if both datasets have the same set of columns: True\n",
      "\n",
      "\n",
      "Current number of columns: 229\n"
     ]
    }
   ],
   "source": [
    "X_train = pd.get_dummies(X_train.loc[:,[col for col in X_train.columns]])\n",
    "print('x_train_v2 shape after get_dummies: {}'.format(X_train.shape))\n",
    "X_test = pd.get_dummies(X_test.loc[:,[col for col in X_test.columns]])\n",
    "print('x_test_v2 shape after get_dummies: {}'.format(X_test.shape))\n",
    "\n",
    "for col in X_train.columns:\n",
    "    if col not in X_test.columns:\n",
    "        print('\\'{}\\' found missing in x_test_v2, initialising new column with 0s.'.format(col))\n",
    "        X_test.loc[:,col] = 0\n",
    "print('\\n')\n",
    "for col in X_test.columns:\n",
    "    if col not in X_train.columns:\n",
    "        print('\\'{}\\' found missing in x_train_v2, initialising new column with 0s.'.format(col))\n",
    "        X_train.loc[:,col] = 0\n",
    "print('\\n')\n",
    "print('Check if both datasets have the same set of columns: {}'.format(set(X_train.columns) == set(X_test.columns)))\n",
    "print('\\n')\n",
    "print('Current number of columns: {}'.format(X_train.shape[1]))\n",
    "\n",
    "# ensure that column sequence is similar too\n",
    "column_list = list(X_train.columns)\n",
    "X_test = X_test.loc[:,column_list]"
   ],
   "metadata": {
    "collapsed": false
   }
  },
  {
   "cell_type": "markdown",
   "source": [
    "# One Hot Encoding\n",
    "\n",
    "Applying the one hot encoding using the get_dummies function of pandas.\n",
    "Since it's possible that a nominal value is not present in one of the categorical columns, resulting in more or lesser columns generated in train split vs test split.\n",
    "Assuring to reach the same of features by filling with 0 the ones that are missing"
   ],
   "metadata": {
    "collapsed": false
   }
  },
  {
   "cell_type": "code",
   "execution_count": 135,
   "outputs": [],
   "source": [
    "ss = StandardScaler()\n",
    "\n",
    "cols = X_train.columns\n",
    "\n",
    "# perform the normalization\n",
    "X_train = ss.fit_transform(X_train)\n",
    "X_test = ss.fit_transform(X_test)\n",
    "\n",
    "X_train = pd.DataFrame(data=X_train, columns=cols)\n",
    "X_test = pd.DataFrame(data=X_test, columns=cols)\n",
    "\n",
    "X_train.to_csv('x_train_preprocessed.csv', index=False)\n",
    "y_train.to_csv('y_train_preprocessed.csv', index=False)\n",
    "X_test.to_csv('x_test_preprocessed.csv', index=False)\n",
    "y_test.to_csv('y_test_preprocessed.csv', index=False)"
   ],
   "metadata": {
    "collapsed": false
   }
  },
  {
   "cell_type": "markdown",
   "source": [
    "# Standard Scaler\n",
    "Standardizing features by removing the mean and scaling to unit variance (-1, 1). Work best with normal variance features"
   ],
   "metadata": {
    "collapsed": false
   }
  },
  {
   "cell_type": "code",
   "execution_count": 136,
   "outputs": [],
   "source": [
    "from sklearn.preprocessing import MinMaxScaler\n",
    "\n",
    "mm = MinMaxScaler()\n",
    "\n",
    "cols = X_train.columns\n",
    "\n",
    "# perform the normalization\n",
    "X_train = mm.fit_transform(X_train)\n",
    "X_test = mm.fit_transform(X_test)\n",
    "\n",
    "X_train = pd.DataFrame(data=X_train, columns=cols)\n",
    "X_test = pd.DataFrame(data=X_test, columns=cols)\n",
    "\n",
    "X_train.to_csv('x_train_preprocessed_minmax.csv', index=False)\n",
    "y_train.to_csv('y_train_preprocessed_minmax.csv', index=False)\n",
    "X_test.to_csv('x_test_preprocessed_minmax.csv', index=False)\n",
    "y_test.to_csv('y_test_preprocessed_minmax.csv', index=False)"
   ],
   "metadata": {
    "collapsed": false
   }
  },
  {
   "cell_type": "markdown",
   "source": [
    "# Min Max Scaler\n",
    "Transforming features by scaling each feature to a given range (0, 1)."
   ],
   "metadata": {
    "collapsed": false
   }
  }
 ],
 "metadata": {
  "kernelspec": {
   "display_name": "Python 3",
   "language": "python",
   "name": "python3"
  },
  "language_info": {
   "codemirror_mode": {
    "name": "ipython",
    "version": 2
   },
   "file_extension": ".py",
   "mimetype": "text/x-python",
   "name": "python",
   "nbconvert_exporter": "python",
   "pygments_lexer": "ipython2",
   "version": "2.7.6"
  }
 },
 "nbformat": 4,
 "nbformat_minor": 0
}
