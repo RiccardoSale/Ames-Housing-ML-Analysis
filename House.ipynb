{
 "cells": [
  {
   "cell_type": "code",
   "execution_count": 2,
   "outputs": [],
   "source": [
    "import pandas as pd\n",
    "#Misc_Val -> valore della feature\n",
    "#Misc_Feature -> togliamo ??\n",
    "#Condition 2 -> 2900 Norm su 2931  -> rimuovere\n",
    "#Roof_Matl -> rimovere troppo uguali\n",
    "#Piscina con campo a None\n",
    "#Street -> 13 diversi da Pavel levare\n",
    "#Utilities -> levare troppi pochi campi diversi\n",
    "#anno ristrutturazione come unico Anno\n"
   ],
   "metadata": {
    "collapsed": false
   }
  },
  {
   "cell_type": "code",
   "execution_count": 4,
   "outputs": [
    {
     "data": {
      "text/plain": "   Lot_Frontage  Lot_Area  Overall_Qual  Overall_Cond  Year_Built  \\\n0         141.0   31770.0             5             4      1960.0   \n1          80.0   11622.0             4             5      1961.0   \n2          81.0   14267.0             5             5      1958.0   \n3          93.0   11160.0             6             4      1968.0   \n4          74.0   13830.0             4             4      1997.0   \n5          78.0    9978.0             5             5      1998.0   \n6          41.0    4920.0             7             4      2001.0   \n7          43.0    5005.0             7             4      1992.0   \n8          39.0    5389.0             7             4      1995.0   \n9          60.0    7500.0             6             4      1999.0   \n\n   Year_Remod_Add  Mas_Vnr_Area  Exter_Qual  Exter_Cond  Bsmt_Qual  ...  \\\n0          1960.0         112.0           1           2          3  ...   \n1          1961.0           0.0           1           2          3  ...   \n2          1958.0         108.0           1           2          3  ...   \n3          1968.0           0.0           2           2          3  ...   \n4          1998.0           0.0           1           2          4  ...   \n5          1998.0          20.0           1           2          3  ...   \n6          2001.0           0.0           2           2          4  ...   \n7          1992.0           0.0           2           2          4  ...   \n8          1996.0           0.0           2           2          4  ...   \n9          1999.0           0.0           1           2          3  ...   \n\n   Sale_Type_b'New'  Sale_Type_b'Oth'  Sale_Type_b'VWD'  Sale_Type_b'WD '  \\\n0                 0                 0                 0                 1   \n1                 0                 0                 0                 1   \n2                 0                 0                 0                 1   \n3                 0                 0                 0                 1   \n4                 0                 0                 0                 1   \n5                 0                 0                 0                 1   \n6                 0                 0                 0                 1   \n7                 0                 0                 0                 1   \n8                 0                 0                 0                 1   \n9                 0                 0                 0                 1   \n\n   Sale_Condition_b'Abnorml'  Sale_Condition_b'AdjLand'  \\\n0                          0                          0   \n1                          0                          0   \n2                          0                          0   \n3                          0                          0   \n4                          0                          0   \n5                          0                          0   \n6                          0                          0   \n7                          0                          0   \n8                          0                          0   \n9                          0                          0   \n\n   Sale_Condition_b'Alloca'  Sale_Condition_b'Family'  \\\n0                         0                         0   \n1                         0                         0   \n2                         0                         0   \n3                         0                         0   \n4                         0                         0   \n5                         0                         0   \n6                         0                         0   \n7                         0                         0   \n8                         0                         0   \n9                         0                         0   \n\n   Sale_Condition_b'Normal'  Sale_Condition_b'Partial'  \n0                         1                          0  \n1                         1                          0  \n2                         1                          0  \n3                         1                          0  \n4                         1                          0  \n5                         1                          0  \n6                         1                          0  \n7                         1                          0  \n8                         1                          0  \n9                         1                          0  \n\n[10 rows x 229 columns]",
      "text/html": "<div>\n<style scoped>\n    .dataframe tbody tr th:only-of-type {\n        vertical-align: middle;\n    }\n\n    .dataframe tbody tr th {\n        vertical-align: top;\n    }\n\n    .dataframe thead th {\n        text-align: right;\n    }\n</style>\n<table border=\"1\" class=\"dataframe\">\n  <thead>\n    <tr style=\"text-align: right;\">\n      <th></th>\n      <th>Lot_Frontage</th>\n      <th>Lot_Area</th>\n      <th>Overall_Qual</th>\n      <th>Overall_Cond</th>\n      <th>Year_Built</th>\n      <th>Year_Remod_Add</th>\n      <th>Mas_Vnr_Area</th>\n      <th>Exter_Qual</th>\n      <th>Exter_Cond</th>\n      <th>Bsmt_Qual</th>\n      <th>...</th>\n      <th>Sale_Type_b'New'</th>\n      <th>Sale_Type_b'Oth'</th>\n      <th>Sale_Type_b'VWD'</th>\n      <th>Sale_Type_b'WD '</th>\n      <th>Sale_Condition_b'Abnorml'</th>\n      <th>Sale_Condition_b'AdjLand'</th>\n      <th>Sale_Condition_b'Alloca'</th>\n      <th>Sale_Condition_b'Family'</th>\n      <th>Sale_Condition_b'Normal'</th>\n      <th>Sale_Condition_b'Partial'</th>\n    </tr>\n  </thead>\n  <tbody>\n    <tr>\n      <th>0</th>\n      <td>141.0</td>\n      <td>31770.0</td>\n      <td>5</td>\n      <td>4</td>\n      <td>1960.0</td>\n      <td>1960.0</td>\n      <td>112.0</td>\n      <td>1</td>\n      <td>2</td>\n      <td>3</td>\n      <td>...</td>\n      <td>0</td>\n      <td>0</td>\n      <td>0</td>\n      <td>1</td>\n      <td>0</td>\n      <td>0</td>\n      <td>0</td>\n      <td>0</td>\n      <td>1</td>\n      <td>0</td>\n    </tr>\n    <tr>\n      <th>1</th>\n      <td>80.0</td>\n      <td>11622.0</td>\n      <td>4</td>\n      <td>5</td>\n      <td>1961.0</td>\n      <td>1961.0</td>\n      <td>0.0</td>\n      <td>1</td>\n      <td>2</td>\n      <td>3</td>\n      <td>...</td>\n      <td>0</td>\n      <td>0</td>\n      <td>0</td>\n      <td>1</td>\n      <td>0</td>\n      <td>0</td>\n      <td>0</td>\n      <td>0</td>\n      <td>1</td>\n      <td>0</td>\n    </tr>\n    <tr>\n      <th>2</th>\n      <td>81.0</td>\n      <td>14267.0</td>\n      <td>5</td>\n      <td>5</td>\n      <td>1958.0</td>\n      <td>1958.0</td>\n      <td>108.0</td>\n      <td>1</td>\n      <td>2</td>\n      <td>3</td>\n      <td>...</td>\n      <td>0</td>\n      <td>0</td>\n      <td>0</td>\n      <td>1</td>\n      <td>0</td>\n      <td>0</td>\n      <td>0</td>\n      <td>0</td>\n      <td>1</td>\n      <td>0</td>\n    </tr>\n    <tr>\n      <th>3</th>\n      <td>93.0</td>\n      <td>11160.0</td>\n      <td>6</td>\n      <td>4</td>\n      <td>1968.0</td>\n      <td>1968.0</td>\n      <td>0.0</td>\n      <td>2</td>\n      <td>2</td>\n      <td>3</td>\n      <td>...</td>\n      <td>0</td>\n      <td>0</td>\n      <td>0</td>\n      <td>1</td>\n      <td>0</td>\n      <td>0</td>\n      <td>0</td>\n      <td>0</td>\n      <td>1</td>\n      <td>0</td>\n    </tr>\n    <tr>\n      <th>4</th>\n      <td>74.0</td>\n      <td>13830.0</td>\n      <td>4</td>\n      <td>4</td>\n      <td>1997.0</td>\n      <td>1998.0</td>\n      <td>0.0</td>\n      <td>1</td>\n      <td>2</td>\n      <td>4</td>\n      <td>...</td>\n      <td>0</td>\n      <td>0</td>\n      <td>0</td>\n      <td>1</td>\n      <td>0</td>\n      <td>0</td>\n      <td>0</td>\n      <td>0</td>\n      <td>1</td>\n      <td>0</td>\n    </tr>\n    <tr>\n      <th>5</th>\n      <td>78.0</td>\n      <td>9978.0</td>\n      <td>5</td>\n      <td>5</td>\n      <td>1998.0</td>\n      <td>1998.0</td>\n      <td>20.0</td>\n      <td>1</td>\n      <td>2</td>\n      <td>3</td>\n      <td>...</td>\n      <td>0</td>\n      <td>0</td>\n      <td>0</td>\n      <td>1</td>\n      <td>0</td>\n      <td>0</td>\n      <td>0</td>\n      <td>0</td>\n      <td>1</td>\n      <td>0</td>\n    </tr>\n    <tr>\n      <th>6</th>\n      <td>41.0</td>\n      <td>4920.0</td>\n      <td>7</td>\n      <td>4</td>\n      <td>2001.0</td>\n      <td>2001.0</td>\n      <td>0.0</td>\n      <td>2</td>\n      <td>2</td>\n      <td>4</td>\n      <td>...</td>\n      <td>0</td>\n      <td>0</td>\n      <td>0</td>\n      <td>1</td>\n      <td>0</td>\n      <td>0</td>\n      <td>0</td>\n      <td>0</td>\n      <td>1</td>\n      <td>0</td>\n    </tr>\n    <tr>\n      <th>7</th>\n      <td>43.0</td>\n      <td>5005.0</td>\n      <td>7</td>\n      <td>4</td>\n      <td>1992.0</td>\n      <td>1992.0</td>\n      <td>0.0</td>\n      <td>2</td>\n      <td>2</td>\n      <td>4</td>\n      <td>...</td>\n      <td>0</td>\n      <td>0</td>\n      <td>0</td>\n      <td>1</td>\n      <td>0</td>\n      <td>0</td>\n      <td>0</td>\n      <td>0</td>\n      <td>1</td>\n      <td>0</td>\n    </tr>\n    <tr>\n      <th>8</th>\n      <td>39.0</td>\n      <td>5389.0</td>\n      <td>7</td>\n      <td>4</td>\n      <td>1995.0</td>\n      <td>1996.0</td>\n      <td>0.0</td>\n      <td>2</td>\n      <td>2</td>\n      <td>4</td>\n      <td>...</td>\n      <td>0</td>\n      <td>0</td>\n      <td>0</td>\n      <td>1</td>\n      <td>0</td>\n      <td>0</td>\n      <td>0</td>\n      <td>0</td>\n      <td>1</td>\n      <td>0</td>\n    </tr>\n    <tr>\n      <th>9</th>\n      <td>60.0</td>\n      <td>7500.0</td>\n      <td>6</td>\n      <td>4</td>\n      <td>1999.0</td>\n      <td>1999.0</td>\n      <td>0.0</td>\n      <td>1</td>\n      <td>2</td>\n      <td>3</td>\n      <td>...</td>\n      <td>0</td>\n      <td>0</td>\n      <td>0</td>\n      <td>1</td>\n      <td>0</td>\n      <td>0</td>\n      <td>0</td>\n      <td>0</td>\n      <td>1</td>\n      <td>0</td>\n    </tr>\n  </tbody>\n</table>\n<p>10 rows × 229 columns</p>\n</div>"
     },
     "execution_count": 4,
     "metadata": {},
     "output_type": "execute_result"
    }
   ],
   "source": [
    "x_train = pd.read_csv('x_train_cleaned.csv', index_col=0)\n",
    "y_train = pd.read_csv('y_train_cleaned.csv', index_col=0)\n",
    "x_test = pd.read_csv('x_test_cleaned.csv', index_col=0)\n",
    "\n",
    "x_train.head(10)"
   ],
   "metadata": {
    "collapsed": false
   }
  }
 ],
 "metadata": {
  "kernelspec": {
   "display_name": "Python 3",
   "language": "python",
   "name": "python3"
  },
  "language_info": {
   "codemirror_mode": {
    "name": "ipython",
    "version": 2
   },
   "file_extension": ".py",
   "mimetype": "text/x-python",
   "name": "python",
   "nbconvert_exporter": "python",
   "pygments_lexer": "ipython2",
   "version": "2.7.6"
  }
 },
 "nbformat": 4,
 "nbformat_minor": 0
}
