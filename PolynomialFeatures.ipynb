{
 "cells": [
  {
   "cell_type": "code",
   "execution_count": null,
   "metadata": {
    "collapsed": true
   },
   "outputs": [],
   "source": [
    "poly = PolynomialFeatures(100, include_bias=False)\n",
    "poly.fit(X_train)\n",
    "X_train_2 = poly.transform(X_train)\n",
    "\n",
    "# train the model\n",
    "model = LinearRegression(fit_intercept=True)\n",
    "model.fit(X_train_2, y_train)\n",
    "\n",
    "y_pred = model.predict( poly.transform(X) )\n",
    "\n",
    "print (\"Train Error:\", mean_squared_error(y_true = y_train,\n",
    "                                          y_pred=y_pred[:train_size]))\n",
    "print (\"Test Error:\", mean_squared_error(y_true = y_test,\n",
    "                                         y_pred=y_pred[train_size:]))\n"
   ]
  }
 ],
 "metadata": {
  "kernelspec": {
   "display_name": "Python 3",
   "language": "python",
   "name": "python3"
  },
  "language_info": {
   "codemirror_mode": {
    "name": "ipython",
    "version": 2
   },
   "file_extension": ".py",
   "mimetype": "text/x-python",
   "name": "python",
   "nbconvert_exporter": "python",
   "pygments_lexer": "ipython2",
   "version": "2.7.6"
  }
 },
 "nbformat": 4,
 "nbformat_minor": 0
}
