{
 "cells": [
  {
   "cell_type": "code",
   "execution_count": null,
   "metadata": {
    "collapsed": true
   },
   "outputs": [],
   "source": [
    "from tensorflow.keras import models\n",
    "from tensorflow.keras import layers\n",
    "from tensorflow.keras import optimizers\n",
    "\n",
    "# initialize the network\n",
    "model = models.Sequential()\n",
    "\n",
    "# add nodes to the network\n",
    "# we will see this later\n",
    "model.add(\n",
    "    layers.Dense(1,  # no. of neurons\n",
    "                 activation='sigmoid',  # activation function\n",
    "                 input_shape=(2,)  # shape of the input\n",
    "                 )\n",
    ")\n",
    "\n",
    "# finalize the network\n",
    "model.compile(optimizer=optimizers.Adam(learning_rate=0.9),\n",
    "              loss='binary_crossentropy',  # loss function\n",
    "              metrics=['acc'])  # additional quality measure\n",
    "\n",
    "# train the network\n",
    "model.fit(x=train_X,  # training examples\n",
    "          y=train_y,  # desired output\n",
    "          epochs=50,  # number of training epochs # 50\n",
    "          verbose=1);\n",
    "# run evaluation metrics on the data\n",
    "# this returns the loss and the metrics adopted\n",
    "print(model.evaluate(train_X, train_y))\n",
    "# get model predictions for the training data points\n",
    "pred_y = model.predict(train_X)\n",
    "print(pred_y)\n",
    "print(pred_y.shape)\n",
    "pred_y.flatten()"
   ]
  }
 ],
 "metadata": {
  "kernelspec": {
   "display_name": "Python 3",
   "language": "python",
   "name": "python3"
  },
  "language_info": {
   "codemirror_mode": {
    "name": "ipython",
    "version": 2
   },
   "file_extension": ".py",
   "mimetype": "text/x-python",
   "name": "python",
   "nbconvert_exporter": "python",
   "pygments_lexer": "ipython2",
   "version": "2.7.6"
  }
 },
 "nbformat": 4,
 "nbformat_minor": 0
}
