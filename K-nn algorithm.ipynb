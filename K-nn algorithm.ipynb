{
 "cells": [
  {
   "cell_type": "code",
   "execution_count": null,
   "metadata": {
    "collapsed": true
   },
   "outputs": [],
   "source": [
    "\n",
    "\n",
    "#Lucchese usa MinMax Scaler capire perche dice che algoritmo sensibile alla distanza tra i valori delle feature\n",
    "for k in range(1,11):\n",
    "    kNN = KNeighborsClassifier(n_neighbors=10)\n",
    "\n",
    "    # Train the classifier\n",
    "    kNN.fit(X_train,y_train)\n",
    "\n",
    "    # Generate predictions\n",
    "    y_pred = kNN.predict(X_test)\n",
    "\n",
    "    # compute Accuracy\n",
    "    acc = accuracy_score(y_true=y_test, y_pred=y_pred)\n",
    "    print (f\"Accuracy {acc:.3f}\")"
   ]
  },
  {
   "cell_type": "markdown",
   "source": [
    "- Best scaling depends on data\n",
    "- **StandardScaler** does not remap every feature into the interval 0-1, but it depends on variance. A feature with a large variance may strongly impact on the overall distance\n",
    "- **MinMaxScaling** is usually more sensitive to outliers, but weights features more evenly\n",
    "- Euclidean Distance assumes all features are equally important, and this is usually not the case"
   ],
   "metadata": {
    "collapsed": false
   }
  }
 ],
 "metadata": {
  "kernelspec": {
   "display_name": "Python 3",
   "language": "python",
   "name": "python3"
  },
  "language_info": {
   "codemirror_mode": {
    "name": "ipython",
    "version": 2
   },
   "file_extension": ".py",
   "mimetype": "text/x-python",
   "name": "python",
   "nbconvert_exporter": "python",
   "pygments_lexer": "ipython2",
   "version": "2.7.6"
  }
 },
 "nbformat": 4,
 "nbformat_minor": 0
}
