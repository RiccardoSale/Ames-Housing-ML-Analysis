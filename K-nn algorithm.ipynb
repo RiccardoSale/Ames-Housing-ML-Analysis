{
 "cells": [
  {
   "cell_type": "markdown",
   "source": [
    "## KNN ALGORITHM\n",
    "The k-nearest neighbors algorithm, also known as KNN or k-NN, is a non-parametric, supervised learning regressor, which uses proximity to make predictions about the grouping of an individual data point. While it can be used for either regression or classification problems, it is typically used as a classification algorithm, working off the assumption that similar points can be found near one another."
   ],
   "metadata": {
    "collapsed": false
   }
  },
  {
   "cell_type": "markdown",
   "source": [
    "# Differences between Minmax and SS\n",
    "At first, we try to run the algorithm with two different normalized dataset to understand which one is the best because it can vary based on the distribution of data."
   ],
   "metadata": {
    "collapsed": false
   }
  },
  {
   "cell_type": "code",
   "execution_count": 5,
   "outputs": [
    {
     "name": "stdout",
     "output_type": "stream",
     "text": [
      "n_iter= 1 TRAIN:  0.9999958247428807 , TEST:  0.66542340178668\n",
      "n_iter= 2 TRAIN:  0.9095746418894409 , TEST:  0.699606484230385\n",
      "n_iter= 3 TRAIN:  0.8697148821438615 , TEST:  0.7161328903898881\n",
      "n_iter= 4 TRAIN:  0.8490498415571622 , TEST:  0.7225347128285162\n",
      "n_iter= 5 TRAIN:  0.8352632515427143 , TEST:  0.7369540879732948\n",
      "n_iter= 6 TRAIN:  0.8222291185538425 , TEST:  0.7395207995709774\n",
      "n_iter= 7 TRAIN:  0.8138908072185647 , TEST:  0.7353213908305583\n",
      "n_iter= 8 TRAIN:  0.8093682451443844 , TEST:  0.7321662206832804\n",
      "n_iter= 9 TRAIN:  0.8056981528791587 , TEST:  0.7296120748539705\n",
      "n_iter= 10 TRAIN:  0.8015880033739449 , TEST:  0.7260437395095397\n",
      "n_iter= 11 TRAIN:  0.7963085122775105 , TEST:  0.7237148552945272\n",
      "n_iter= 12 TRAIN:  0.791074321052202 , TEST:  0.7246711138111458\n",
      "n_iter= 13 TRAIN:  0.7865441633384406 , TEST:  0.7236422970412084\n",
      "n_iter= 14 TRAIN:  0.784670580747184 , TEST:  0.7238827930636861\n",
      "n_iter= 15 TRAIN:  0.7804332651539164 , TEST:  0.7208959477949277\n",
      "n_iter= 16 TRAIN:  0.7780892728814283 , TEST:  0.7203512827820332\n",
      "n_iter= 17 TRAIN:  0.7737838595787921 , TEST:  0.7220697538553995\n",
      "n_iter= 18 TRAIN:  0.7694018346760396 , TEST:  0.7249780787096856\n",
      "n_iter= 19 TRAIN:  0.7649138667997174 , TEST:  0.7229561449610196\n",
      "n_iter= 20 TRAIN:  0.7629144775566219 , TEST:  0.720044706662528\n",
      "n_iter= 21 TRAIN:  0.7600981291962492 , TEST:  0.7221358402324611\n",
      "n_iter= 22 TRAIN:  0.7582240143905512 , TEST:  0.7221866274062722\n",
      "n_iter= 23 TRAIN:  0.7562627616102375 , TEST:  0.7209083399025835\n",
      "n_iter= 24 TRAIN:  0.7517942332971981 , TEST:  0.7195590846209134\n",
      "n_iter= 25 TRAIN:  0.7496723392981384 , TEST:  0.7178228319189035\n",
      "n_iter= 26 TRAIN:  0.7467412094022974 , TEST:  0.7179236647183886\n",
      "n_iter= 27 TRAIN:  0.745902475501691 , TEST:  0.7171781797955428\n",
      "n_iter= 28 TRAIN:  0.7446192030491741 , TEST:  0.7168289004436958\n",
      "n_iter= 29 TRAIN:  0.7432522695436855 , TEST:  0.713220436553943\n",
      "n_iter= 30 TRAIN:  0.7416312747167048 , TEST:  0.7120734682615826\n",
      "n_iter= 31 TRAIN:  0.7398947866566693 , TEST:  0.7120366955969236\n",
      "n_iter= 32 TRAIN:  0.7388257037237248 , TEST:  0.71107981293598\n",
      "n_iter= 33 TRAIN:  0.7365599917110446 , TEST:  0.7104412539247505\n",
      "n_iter= 34 TRAIN:  0.7348089883566593 , TEST:  0.7086249118455574\n",
      "n_iter= 35 TRAIN:  0.7332684595141465 , TEST:  0.708408902226632\n",
      "n_iter= 36 TRAIN:  0.7307784714705041 , TEST:  0.7050544219010566\n",
      "n_iter= 37 TRAIN:  0.7300580309126692 , TEST:  0.7039617049694527\n",
      "n_iter= 38 TRAIN:  0.7278451256901841 , TEST:  0.7052499867551045\n",
      "n_iter= 39 TRAIN:  0.7265253356689552 , TEST:  0.7043671732471417\n",
      "n_iter= 40 TRAIN:  0.724515625045495 , TEST:  0.7039928109248397\n",
      "n_iter= 41 TRAIN:  0.7231933970674517 , TEST:  0.7033245336712262\n",
      "n_iter= 42 TRAIN:  0.7216152143560428 , TEST:  0.7029111028594444\n",
      "n_iter= 43 TRAIN:  0.7211580748234099 , TEST:  0.7027515933031898\n",
      "n_iter= 44 TRAIN:  0.7197552077736082 , TEST:  0.702724269590996\n",
      "n_iter= 45 TRAIN:  0.7182449464830197 , TEST:  0.7014124357090186\n",
      "n_iter= 46 TRAIN:  0.7175553544675848 , TEST:  0.699071083913227\n",
      "n_iter= 47 TRAIN:  0.7160974194142704 , TEST:  0.6978294910994594\n",
      "n_iter= 48 TRAIN:  0.7142773523244543 , TEST:  0.6974401497859364\n",
      "n_iter= 49 TRAIN:  0.7127249247354739 , TEST:  0.6956971258116028\n"
     ]
    }
   ],
   "source": [
    "from sklearn.neighbors import KNeighborsRegressor\n",
    "import pandas as pd\n",
    "\n",
    "X_train = pd.read_csv('x_train_preprocessed_minmax.csv')\n",
    "X_test = pd.read_csv('x_test_preprocessed_minmax.csv')\n",
    "y_train = pd.read_csv('y_train_preprocessed_minmax.csv')\n",
    "y_test = pd.read_csv('y_test_preprocessed_minmax.csv')\n",
    "\n",
    "for k in range(1,50):\n",
    "    kNN = KNeighborsRegressor(n_neighbors=k, weights='uniform', algorithm='auto', leaf_size=50, n_jobs=-1)\n",
    "\n",
    "    kNN.fit(X_train,y_train)\n",
    "    print(\"n_iter=\",k,\"TRAIN: \",kNN.score(X_train,y_train),\", TEST: \",kNN.score(X_test,y_test))"
   ],
   "metadata": {
    "collapsed": false
   }
  },
  {
   "cell_type": "code",
   "execution_count": 6,
   "outputs": [
    {
     "name": "stdout",
     "output_type": "stream",
     "text": [
      "n_iter= 1 TRAIN:  0.9999958247428807 , TEST:  0.7328820092905599\n",
      "n_iter= 2 TRAIN:  0.9250120806642834 , TEST:  0.773145572114472\n",
      "n_iter= 3 TRAIN:  0.8870887357729723 , TEST:  0.7801710747149845\n",
      "n_iter= 4 TRAIN:  0.8616404151504238 , TEST:  0.7835910924312484\n",
      "n_iter= 5 TRAIN:  0.8520008511455197 , TEST:  0.7834765661740224\n",
      "n_iter= 6 TRAIN:  0.8442081250813711 , TEST:  0.7793410793944073\n",
      "n_iter= 7 TRAIN:  0.8342093554304901 , TEST:  0.7744877774260006\n",
      "n_iter= 8 TRAIN:  0.8295951417522538 , TEST:  0.7783488413460251\n",
      "n_iter= 9 TRAIN:  0.8259911283186573 , TEST:  0.7715031351135441\n",
      "n_iter= 10 TRAIN:  0.8208877291046098 , TEST:  0.7694319679818207\n",
      "n_iter= 11 TRAIN:  0.8162263712066081 , TEST:  0.7744222985398065\n",
      "n_iter= 12 TRAIN:  0.8140584776762929 , TEST:  0.7699484511345506\n",
      "n_iter= 13 TRAIN:  0.8102467339565387 , TEST:  0.766192291846876\n",
      "n_iter= 14 TRAIN:  0.8101841383654372 , TEST:  0.7655951607740042\n",
      "n_iter= 15 TRAIN:  0.8083005566210788 , TEST:  0.7648238250796501\n",
      "n_iter= 16 TRAIN:  0.8055716961480702 , TEST:  0.7642087475030253\n",
      "n_iter= 17 TRAIN:  0.8040309656490913 , TEST:  0.7642291404174052\n",
      "n_iter= 18 TRAIN:  0.8014933798748468 , TEST:  0.7648481497913664\n",
      "n_iter= 19 TRAIN:  0.7993635447354757 , TEST:  0.764639179703275\n"
     ]
    }
   ],
   "source": [
    "X_train = pd.read_csv('x_train_preprocessed.csv')\n",
    "X_test = pd.read_csv('x_test_preprocessed.csv')\n",
    "y_train = pd.read_csv('y_train_preprocessed.csv')\n",
    "y_test = pd.read_csv('y_test_preprocessed.csv')\n",
    "\n",
    "for k in range(1,50):\n",
    "    kNN = KNeighborsRegressor(n_neighbors=k, weights='uniform', algorithm='auto', leaf_size=50, n_jobs=-1)\n",
    "\n",
    "    kNN.fit(X_train,y_train)\n",
    "    print(\"n_iter=\",k, \"TRAIN: \",kNN.score(X_train,y_train),\", TEST: \",kNN.score(X_test,y_test))"
   ],
   "metadata": {
    "collapsed": false
   }
  },
  {
   "cell_type": "markdown",
   "source": [
    "- Best scaling depends on data\n",
    "- **StandardScaler** does not remap every feature into the interval 0-1, but it depends on variance. A feature with a large variance may strongly impact on the overall distance\n",
    "- **MinMaxScaling** is usually more sensitive to outliers, but weights features more evenly\n",
    "- Euclidean Distance assumes all features are equally important, and this is usually not the case\n",
    "**In our case the algorithm seems to be working better with a SS normalization, so we continue with that.**\n",
    "Arriviamo a questa considerazione osservando i valori ottenuti dai due differenti test, si può notare molto facilmente come con SS si riesca ad ottenere una migliore precisione a discapito di un lieve overffiting mentre usando MinMax possiamo notare come in tutte le osservazioni i valori fra TEST e TRAIN sono simili e quindi l'algoritmo è piu' stabile."
   ],
   "metadata": {
    "collapsed": false
   }
  },
  {
   "cell_type": "markdown",
   "source": [
    "# Remove some features to see if the algorithm work better\n",
    "Based on the idea of the k-nn algorithm we could expect that dropping some features that should not be important will not modify the behavior / r^2 we get.\n",
    "Since the k-nn algorithm select the best ones based on the k parameter."
   ],
   "metadata": {
    "collapsed": false
   }
  },
  {
   "cell_type": "code",
   "execution_count": 7,
   "outputs": [
    {
     "name": "stdout",
     "output_type": "stream",
     "text": [
      "TRAIN:  0.9999958247428807 , TEST:  0.6717365072223842\n",
      "TRAIN:  0.914347643422731 , TEST:  0.709694513099081\n",
      "TRAIN:  0.8663103668191636 , TEST:  0.722069786904446\n",
      "TRAIN:  0.835399283881845 , TEST:  0.7110426706694499\n",
      "TRAIN:  0.817163297429117 , TEST:  0.7204854660285203\n",
      "TRAIN:  0.8036477685944521 , TEST:  0.7139325051063583\n",
      "TRAIN:  0.8001680426712574 , TEST:  0.7149995189375692\n",
      "TRAIN:  0.7961648594785284 , TEST:  0.7186025844452222\n",
      "TRAIN:  0.793259437619869 , TEST:  0.7221423402157556\n",
      "TRAIN:  0.7908304941991611 , TEST:  0.718987769297409\n",
      "TRAIN:  0.7883630397314981 , TEST:  0.7209896371858553\n",
      "TRAIN:  0.7869113441421814 , TEST:  0.7221528288723953\n",
      "TRAIN:  0.785648169594853 , TEST:  0.7224743818600523\n",
      "TRAIN:  0.7842913901787488 , TEST:  0.7230486176767439\n",
      "TRAIN:  0.7831458832129587 , TEST:  0.7209948400533174\n",
      "TRAIN:  0.7828433416709648 , TEST:  0.7209024000839165\n",
      "TRAIN:  0.7813842968628921 , TEST:  0.7221824371596173\n",
      "TRAIN:  0.779852322749219 , TEST:  0.7220201226708893\n",
      "TRAIN:  0.7779419786266879 , TEST:  0.72319752964301\n"
     ]
    }
   ],
   "source": [
    "oh_neighbor = []\n",
    "for col in X_train.columns:\n",
    "    if 'Neighborhood_b' in col:\n",
    "        oh_neighbor.append(col)\n",
    "\n",
    "X_train_modified = X_train.drop(columns=oh_neighbor)\n",
    "X_test_modified= X_test.drop(columns=oh_neighbor)\n",
    "\n",
    "porch = ['Wood_Deck_SF', 'Open_Porch_SF', 'Enclosed_Porch', 'Three_season_porch', 'Screen_Porch']\n",
    "surface = ['Total_Finished_Bsmt_SF', 'First_Flr_SF', 'Second_Flr_SF', 'Garage_Area']\n",
    "baths = ['Full_Bath', 'Half_Bath', 'Bsmt_Full_Bath', 'Bsmt_Half_Bath']\n",
    "\n",
    "X_train_modified = X_train_modified.drop(columns=porch)\n",
    "X_test_modified = X_test_modified.drop(columns=porch)\n",
    "\n",
    "X_train_modified = X_train_modified.drop(columns=surface)\n",
    "X_test_modified = X_test_modified.drop(columns=surface)\n",
    "\n",
    "X_train_modified = X_train_modified.drop(columns=baths)\n",
    "X_test_modified = X_test_modified.drop(columns=baths)\n",
    "\n",
    "for k in range(1,20):\n",
    "    kNN = KNeighborsRegressor(n_neighbors=k, weights='uniform', algorithm='auto', leaf_size=50, n_jobs=-1)\n",
    "\n",
    "    kNN.fit(X_train_modified,y_train)\n",
    "    print(\"TRAIN \",k,\": \",kNN.score(X_train_modified,y_train),\", TEST \",k,\": \",kNN.score(X_test_modified,y_test))"
   ],
   "metadata": {
    "collapsed": false
   }
  },
  {
   "cell_type": "markdown",
   "source": [
    "We can see that the r^2 is reduced, probably some of the feature removed\n",
    "accurately explained the model."
   ],
   "metadata": {
    "collapsed": false
   }
  },
  {
   "cell_type": "markdown",
   "source": [
    "# Hyperparameter tuning\n"
   ],
   "metadata": {
    "collapsed": false
   }
  },
  {
   "cell_type": "code",
   "execution_count": 8,
   "outputs": [
    {
     "name": "stdout",
     "output_type": "stream",
     "text": [
      "Fitting 4 folds for each of 20532 candidates, totalling 82128 fits\n"
     ]
    },
    {
     "ename": "KeyboardInterrupt",
     "evalue": "",
     "output_type": "error",
     "traceback": [
      "\u001B[1;31m---------------------------------------------------------------------------\u001B[0m",
      "\u001B[1;31mKeyboardInterrupt\u001B[0m                         Traceback (most recent call last)",
      "Input \u001B[1;32mIn [8]\u001B[0m, in \u001B[0;36m<cell line: 19>\u001B[1;34m()\u001B[0m\n\u001B[0;32m     12\u001B[0m tuning_model\u001B[38;5;241m=\u001B[39mGridSearchCV(\n\u001B[0;32m     13\u001B[0m     reg_decision_model,param_grid\u001B[38;5;241m=\u001B[39mparameters,\n\u001B[0;32m     14\u001B[0m     scoring\u001B[38;5;241m=\u001B[39m\u001B[38;5;124m'\u001B[39m\u001B[38;5;124mr2\u001B[39m\u001B[38;5;124m'\u001B[39m\n\u001B[0;32m     15\u001B[0m     ,cv\u001B[38;5;241m=\u001B[39m\u001B[38;5;241m4\u001B[39m,\n\u001B[0;32m     16\u001B[0m     verbose\u001B[38;5;241m=\u001B[39m\u001B[38;5;241m3\u001B[39m,n_jobs\u001B[38;5;241m=\u001B[39m \u001B[38;5;241m-\u001B[39m\u001B[38;5;241m1\u001B[39m)\n\u001B[0;32m     17\u001B[0m \u001B[38;5;66;03m# function for calculating how much time take for hyperparameter tuning\u001B[39;00m\n\u001B[1;32m---> 19\u001B[0m \u001B[43mtuning_model\u001B[49m\u001B[38;5;241;43m.\u001B[39;49m\u001B[43mfit\u001B[49m\u001B[43m(\u001B[49m\u001B[43mX_train\u001B[49m\u001B[43m,\u001B[49m\u001B[43my_train\u001B[49m\u001B[43m)\u001B[49m\n\u001B[0;32m     20\u001B[0m \u001B[38;5;28mprint\u001B[39m(tuning_model\u001B[38;5;241m.\u001B[39mbest_params_)\n\u001B[0;32m     21\u001B[0m \u001B[38;5;28mprint\u001B[39m(tuning_model\u001B[38;5;241m.\u001B[39mbest_score_)\n",
      "File \u001B[1;32m~\\anaconda3\\lib\\site-packages\\sklearn\\model_selection\\_search.py:891\u001B[0m, in \u001B[0;36mBaseSearchCV.fit\u001B[1;34m(self, X, y, groups, **fit_params)\u001B[0m\n\u001B[0;32m    885\u001B[0m     results \u001B[38;5;241m=\u001B[39m \u001B[38;5;28mself\u001B[39m\u001B[38;5;241m.\u001B[39m_format_results(\n\u001B[0;32m    886\u001B[0m         all_candidate_params, n_splits, all_out, all_more_results\n\u001B[0;32m    887\u001B[0m     )\n\u001B[0;32m    889\u001B[0m     \u001B[38;5;28;01mreturn\u001B[39;00m results\n\u001B[1;32m--> 891\u001B[0m \u001B[38;5;28;43mself\u001B[39;49m\u001B[38;5;241;43m.\u001B[39;49m\u001B[43m_run_search\u001B[49m\u001B[43m(\u001B[49m\u001B[43mevaluate_candidates\u001B[49m\u001B[43m)\u001B[49m\n\u001B[0;32m    893\u001B[0m \u001B[38;5;66;03m# multimetric is determined here because in the case of a callable\u001B[39;00m\n\u001B[0;32m    894\u001B[0m \u001B[38;5;66;03m# self.scoring the return type is only known after calling\u001B[39;00m\n\u001B[0;32m    895\u001B[0m first_test_score \u001B[38;5;241m=\u001B[39m all_out[\u001B[38;5;241m0\u001B[39m][\u001B[38;5;124m\"\u001B[39m\u001B[38;5;124mtest_scores\u001B[39m\u001B[38;5;124m\"\u001B[39m]\n",
      "File \u001B[1;32m~\\anaconda3\\lib\\site-packages\\sklearn\\model_selection\\_search.py:1392\u001B[0m, in \u001B[0;36mGridSearchCV._run_search\u001B[1;34m(self, evaluate_candidates)\u001B[0m\n\u001B[0;32m   1390\u001B[0m \u001B[38;5;28;01mdef\u001B[39;00m \u001B[38;5;21m_run_search\u001B[39m(\u001B[38;5;28mself\u001B[39m, evaluate_candidates):\n\u001B[0;32m   1391\u001B[0m     \u001B[38;5;124;03m\"\"\"Search all candidates in param_grid\"\"\"\u001B[39;00m\n\u001B[1;32m-> 1392\u001B[0m     \u001B[43mevaluate_candidates\u001B[49m\u001B[43m(\u001B[49m\u001B[43mParameterGrid\u001B[49m\u001B[43m(\u001B[49m\u001B[38;5;28;43mself\u001B[39;49m\u001B[38;5;241;43m.\u001B[39;49m\u001B[43mparam_grid\u001B[49m\u001B[43m)\u001B[49m\u001B[43m)\u001B[49m\n",
      "File \u001B[1;32m~\\anaconda3\\lib\\site-packages\\sklearn\\model_selection\\_search.py:838\u001B[0m, in \u001B[0;36mBaseSearchCV.fit.<locals>.evaluate_candidates\u001B[1;34m(candidate_params, cv, more_results)\u001B[0m\n\u001B[0;32m    830\u001B[0m \u001B[38;5;28;01mif\u001B[39;00m \u001B[38;5;28mself\u001B[39m\u001B[38;5;241m.\u001B[39mverbose \u001B[38;5;241m>\u001B[39m \u001B[38;5;241m0\u001B[39m:\n\u001B[0;32m    831\u001B[0m     \u001B[38;5;28mprint\u001B[39m(\n\u001B[0;32m    832\u001B[0m         \u001B[38;5;124m\"\u001B[39m\u001B[38;5;124mFitting \u001B[39m\u001B[38;5;132;01m{0}\u001B[39;00m\u001B[38;5;124m folds for each of \u001B[39m\u001B[38;5;132;01m{1}\u001B[39;00m\u001B[38;5;124m candidates,\u001B[39m\u001B[38;5;124m\"\u001B[39m\n\u001B[0;32m    833\u001B[0m         \u001B[38;5;124m\"\u001B[39m\u001B[38;5;124m totalling \u001B[39m\u001B[38;5;132;01m{2}\u001B[39;00m\u001B[38;5;124m fits\u001B[39m\u001B[38;5;124m\"\u001B[39m\u001B[38;5;241m.\u001B[39mformat(\n\u001B[0;32m    834\u001B[0m             n_splits, n_candidates, n_candidates \u001B[38;5;241m*\u001B[39m n_splits\n\u001B[0;32m    835\u001B[0m         )\n\u001B[0;32m    836\u001B[0m     )\n\u001B[1;32m--> 838\u001B[0m out \u001B[38;5;241m=\u001B[39m \u001B[43mparallel\u001B[49m\u001B[43m(\u001B[49m\n\u001B[0;32m    839\u001B[0m \u001B[43m    \u001B[49m\u001B[43mdelayed\u001B[49m\u001B[43m(\u001B[49m\u001B[43m_fit_and_score\u001B[49m\u001B[43m)\u001B[49m\u001B[43m(\u001B[49m\n\u001B[0;32m    840\u001B[0m \u001B[43m        \u001B[49m\u001B[43mclone\u001B[49m\u001B[43m(\u001B[49m\u001B[43mbase_estimator\u001B[49m\u001B[43m)\u001B[49m\u001B[43m,\u001B[49m\n\u001B[0;32m    841\u001B[0m \u001B[43m        \u001B[49m\u001B[43mX\u001B[49m\u001B[43m,\u001B[49m\n\u001B[0;32m    842\u001B[0m \u001B[43m        \u001B[49m\u001B[43my\u001B[49m\u001B[43m,\u001B[49m\n\u001B[0;32m    843\u001B[0m \u001B[43m        \u001B[49m\u001B[43mtrain\u001B[49m\u001B[38;5;241;43m=\u001B[39;49m\u001B[43mtrain\u001B[49m\u001B[43m,\u001B[49m\n\u001B[0;32m    844\u001B[0m \u001B[43m        \u001B[49m\u001B[43mtest\u001B[49m\u001B[38;5;241;43m=\u001B[39;49m\u001B[43mtest\u001B[49m\u001B[43m,\u001B[49m\n\u001B[0;32m    845\u001B[0m \u001B[43m        \u001B[49m\u001B[43mparameters\u001B[49m\u001B[38;5;241;43m=\u001B[39;49m\u001B[43mparameters\u001B[49m\u001B[43m,\u001B[49m\n\u001B[0;32m    846\u001B[0m \u001B[43m        \u001B[49m\u001B[43msplit_progress\u001B[49m\u001B[38;5;241;43m=\u001B[39;49m\u001B[43m(\u001B[49m\u001B[43msplit_idx\u001B[49m\u001B[43m,\u001B[49m\u001B[43m \u001B[49m\u001B[43mn_splits\u001B[49m\u001B[43m)\u001B[49m\u001B[43m,\u001B[49m\n\u001B[0;32m    847\u001B[0m \u001B[43m        \u001B[49m\u001B[43mcandidate_progress\u001B[49m\u001B[38;5;241;43m=\u001B[39;49m\u001B[43m(\u001B[49m\u001B[43mcand_idx\u001B[49m\u001B[43m,\u001B[49m\u001B[43m \u001B[49m\u001B[43mn_candidates\u001B[49m\u001B[43m)\u001B[49m\u001B[43m,\u001B[49m\n\u001B[0;32m    848\u001B[0m \u001B[43m        \u001B[49m\u001B[38;5;241;43m*\u001B[39;49m\u001B[38;5;241;43m*\u001B[39;49m\u001B[43mfit_and_score_kwargs\u001B[49m\u001B[43m,\u001B[49m\n\u001B[0;32m    849\u001B[0m \u001B[43m    \u001B[49m\u001B[43m)\u001B[49m\n\u001B[0;32m    850\u001B[0m \u001B[43m    \u001B[49m\u001B[38;5;28;43;01mfor\u001B[39;49;00m\u001B[43m \u001B[49m\u001B[43m(\u001B[49m\u001B[43mcand_idx\u001B[49m\u001B[43m,\u001B[49m\u001B[43m \u001B[49m\u001B[43mparameters\u001B[49m\u001B[43m)\u001B[49m\u001B[43m,\u001B[49m\u001B[43m \u001B[49m\u001B[43m(\u001B[49m\u001B[43msplit_idx\u001B[49m\u001B[43m,\u001B[49m\u001B[43m \u001B[49m\u001B[43m(\u001B[49m\u001B[43mtrain\u001B[49m\u001B[43m,\u001B[49m\u001B[43m \u001B[49m\u001B[43mtest\u001B[49m\u001B[43m)\u001B[49m\u001B[43m)\u001B[49m\u001B[43m \u001B[49m\u001B[38;5;129;43;01min\u001B[39;49;00m\u001B[43m \u001B[49m\u001B[43mproduct\u001B[49m\u001B[43m(\u001B[49m\n\u001B[0;32m    851\u001B[0m \u001B[43m        \u001B[49m\u001B[38;5;28;43menumerate\u001B[39;49m\u001B[43m(\u001B[49m\u001B[43mcandidate_params\u001B[49m\u001B[43m)\u001B[49m\u001B[43m,\u001B[49m\u001B[43m \u001B[49m\u001B[38;5;28;43menumerate\u001B[39;49m\u001B[43m(\u001B[49m\u001B[43mcv\u001B[49m\u001B[38;5;241;43m.\u001B[39;49m\u001B[43msplit\u001B[49m\u001B[43m(\u001B[49m\u001B[43mX\u001B[49m\u001B[43m,\u001B[49m\u001B[43m \u001B[49m\u001B[43my\u001B[49m\u001B[43m,\u001B[49m\u001B[43m \u001B[49m\u001B[43mgroups\u001B[49m\u001B[43m)\u001B[49m\u001B[43m)\u001B[49m\n\u001B[0;32m    852\u001B[0m \u001B[43m    \u001B[49m\u001B[43m)\u001B[49m\n\u001B[0;32m    853\u001B[0m \u001B[43m\u001B[49m\u001B[43m)\u001B[49m\n\u001B[0;32m    855\u001B[0m \u001B[38;5;28;01mif\u001B[39;00m \u001B[38;5;28mlen\u001B[39m(out) \u001B[38;5;241m<\u001B[39m \u001B[38;5;241m1\u001B[39m:\n\u001B[0;32m    856\u001B[0m     \u001B[38;5;28;01mraise\u001B[39;00m \u001B[38;5;167;01mValueError\u001B[39;00m(\n\u001B[0;32m    857\u001B[0m         \u001B[38;5;124m\"\u001B[39m\u001B[38;5;124mNo fits were performed. \u001B[39m\u001B[38;5;124m\"\u001B[39m\n\u001B[0;32m    858\u001B[0m         \u001B[38;5;124m\"\u001B[39m\u001B[38;5;124mWas the CV iterator empty? \u001B[39m\u001B[38;5;124m\"\u001B[39m\n\u001B[0;32m    859\u001B[0m         \u001B[38;5;124m\"\u001B[39m\u001B[38;5;124mWere there no candidates?\u001B[39m\u001B[38;5;124m\"\u001B[39m\n\u001B[0;32m    860\u001B[0m     )\n",
      "File \u001B[1;32m~\\anaconda3\\lib\\site-packages\\joblib\\parallel.py:1056\u001B[0m, in \u001B[0;36mParallel.__call__\u001B[1;34m(self, iterable)\u001B[0m\n\u001B[0;32m   1053\u001B[0m     \u001B[38;5;28mself\u001B[39m\u001B[38;5;241m.\u001B[39m_iterating \u001B[38;5;241m=\u001B[39m \u001B[38;5;28;01mFalse\u001B[39;00m\n\u001B[0;32m   1055\u001B[0m \u001B[38;5;28;01mwith\u001B[39;00m \u001B[38;5;28mself\u001B[39m\u001B[38;5;241m.\u001B[39m_backend\u001B[38;5;241m.\u001B[39mretrieval_context():\n\u001B[1;32m-> 1056\u001B[0m     \u001B[38;5;28;43mself\u001B[39;49m\u001B[38;5;241;43m.\u001B[39;49m\u001B[43mretrieve\u001B[49m\u001B[43m(\u001B[49m\u001B[43m)\u001B[49m\n\u001B[0;32m   1057\u001B[0m \u001B[38;5;66;03m# Make sure that we get a last message telling us we are done\u001B[39;00m\n\u001B[0;32m   1058\u001B[0m elapsed_time \u001B[38;5;241m=\u001B[39m time\u001B[38;5;241m.\u001B[39mtime() \u001B[38;5;241m-\u001B[39m \u001B[38;5;28mself\u001B[39m\u001B[38;5;241m.\u001B[39m_start_time\n",
      "File \u001B[1;32m~\\anaconda3\\lib\\site-packages\\joblib\\parallel.py:935\u001B[0m, in \u001B[0;36mParallel.retrieve\u001B[1;34m(self)\u001B[0m\n\u001B[0;32m    933\u001B[0m \u001B[38;5;28;01mtry\u001B[39;00m:\n\u001B[0;32m    934\u001B[0m     \u001B[38;5;28;01mif\u001B[39;00m \u001B[38;5;28mgetattr\u001B[39m(\u001B[38;5;28mself\u001B[39m\u001B[38;5;241m.\u001B[39m_backend, \u001B[38;5;124m'\u001B[39m\u001B[38;5;124msupports_timeout\u001B[39m\u001B[38;5;124m'\u001B[39m, \u001B[38;5;28;01mFalse\u001B[39;00m):\n\u001B[1;32m--> 935\u001B[0m         \u001B[38;5;28mself\u001B[39m\u001B[38;5;241m.\u001B[39m_output\u001B[38;5;241m.\u001B[39mextend(\u001B[43mjob\u001B[49m\u001B[38;5;241;43m.\u001B[39;49m\u001B[43mget\u001B[49m\u001B[43m(\u001B[49m\u001B[43mtimeout\u001B[49m\u001B[38;5;241;43m=\u001B[39;49m\u001B[38;5;28;43mself\u001B[39;49m\u001B[38;5;241;43m.\u001B[39;49m\u001B[43mtimeout\u001B[49m\u001B[43m)\u001B[49m)\n\u001B[0;32m    936\u001B[0m     \u001B[38;5;28;01melse\u001B[39;00m:\n\u001B[0;32m    937\u001B[0m         \u001B[38;5;28mself\u001B[39m\u001B[38;5;241m.\u001B[39m_output\u001B[38;5;241m.\u001B[39mextend(job\u001B[38;5;241m.\u001B[39mget())\n",
      "File \u001B[1;32m~\\anaconda3\\lib\\site-packages\\joblib\\_parallel_backends.py:542\u001B[0m, in \u001B[0;36mLokyBackend.wrap_future_result\u001B[1;34m(future, timeout)\u001B[0m\n\u001B[0;32m    539\u001B[0m \u001B[38;5;124;03m\"\"\"Wrapper for Future.result to implement the same behaviour as\u001B[39;00m\n\u001B[0;32m    540\u001B[0m \u001B[38;5;124;03mAsyncResults.get from multiprocessing.\"\"\"\u001B[39;00m\n\u001B[0;32m    541\u001B[0m \u001B[38;5;28;01mtry\u001B[39;00m:\n\u001B[1;32m--> 542\u001B[0m     \u001B[38;5;28;01mreturn\u001B[39;00m \u001B[43mfuture\u001B[49m\u001B[38;5;241;43m.\u001B[39;49m\u001B[43mresult\u001B[49m\u001B[43m(\u001B[49m\u001B[43mtimeout\u001B[49m\u001B[38;5;241;43m=\u001B[39;49m\u001B[43mtimeout\u001B[49m\u001B[43m)\u001B[49m\n\u001B[0;32m    543\u001B[0m \u001B[38;5;28;01mexcept\u001B[39;00m CfTimeoutError \u001B[38;5;28;01mas\u001B[39;00m e:\n\u001B[0;32m    544\u001B[0m     \u001B[38;5;28;01mraise\u001B[39;00m \u001B[38;5;167;01mTimeoutError\u001B[39;00m \u001B[38;5;28;01mfrom\u001B[39;00m \u001B[38;5;21;01me\u001B[39;00m\n",
      "File \u001B[1;32m~\\anaconda3\\lib\\concurrent\\futures\\_base.py:441\u001B[0m, in \u001B[0;36mFuture.result\u001B[1;34m(self, timeout)\u001B[0m\n\u001B[0;32m    438\u001B[0m \u001B[38;5;28;01melif\u001B[39;00m \u001B[38;5;28mself\u001B[39m\u001B[38;5;241m.\u001B[39m_state \u001B[38;5;241m==\u001B[39m FINISHED:\n\u001B[0;32m    439\u001B[0m     \u001B[38;5;28;01mreturn\u001B[39;00m \u001B[38;5;28mself\u001B[39m\u001B[38;5;241m.\u001B[39m__get_result()\n\u001B[1;32m--> 441\u001B[0m \u001B[38;5;28;43mself\u001B[39;49m\u001B[38;5;241;43m.\u001B[39;49m\u001B[43m_condition\u001B[49m\u001B[38;5;241;43m.\u001B[39;49m\u001B[43mwait\u001B[49m\u001B[43m(\u001B[49m\u001B[43mtimeout\u001B[49m\u001B[43m)\u001B[49m\n\u001B[0;32m    443\u001B[0m \u001B[38;5;28;01mif\u001B[39;00m \u001B[38;5;28mself\u001B[39m\u001B[38;5;241m.\u001B[39m_state \u001B[38;5;129;01min\u001B[39;00m [CANCELLED, CANCELLED_AND_NOTIFIED]:\n\u001B[0;32m    444\u001B[0m     \u001B[38;5;28;01mraise\u001B[39;00m CancelledError()\n",
      "File \u001B[1;32m~\\anaconda3\\lib\\threading.py:312\u001B[0m, in \u001B[0;36mCondition.wait\u001B[1;34m(self, timeout)\u001B[0m\n\u001B[0;32m    310\u001B[0m \u001B[38;5;28;01mtry\u001B[39;00m:    \u001B[38;5;66;03m# restore state no matter what (e.g., KeyboardInterrupt)\u001B[39;00m\n\u001B[0;32m    311\u001B[0m     \u001B[38;5;28;01mif\u001B[39;00m timeout \u001B[38;5;129;01mis\u001B[39;00m \u001B[38;5;28;01mNone\u001B[39;00m:\n\u001B[1;32m--> 312\u001B[0m         \u001B[43mwaiter\u001B[49m\u001B[38;5;241;43m.\u001B[39;49m\u001B[43macquire\u001B[49m\u001B[43m(\u001B[49m\u001B[43m)\u001B[49m\n\u001B[0;32m    313\u001B[0m         gotit \u001B[38;5;241m=\u001B[39m \u001B[38;5;28;01mTrue\u001B[39;00m\n\u001B[0;32m    314\u001B[0m     \u001B[38;5;28;01melse\u001B[39;00m:\n",
      "\u001B[1;31mKeyboardInterrupt\u001B[0m: "
     ]
    }
   ],
   "source": [
    "from sklearn.model_selection import GridSearchCV\n",
    "parameters={\"n_neighbors\":range(1,30),\n",
    "            \"weights\" : [\"uniform\",\"distance\"],\n",
    "            \"algorithm\":[\"ball_tree\",\"kd_tree\",\"brute\"],\n",
    "            \"leaf_size\":range(1,60),\n",
    "            \"p\":[1,2],\n",
    "            \"n_jobs\":[-1] }\n",
    "\n",
    "reg_decision_model=KNeighborsRegressor()\n",
    "reg_decision_model.fit(X_train,y_train)\n",
    "\n",
    "tuning_model=GridSearchCV(\n",
    "    reg_decision_model,param_grid=parameters,\n",
    "    scoring='r2'\n",
    "    ,cv=4,\n",
    "    verbose=3,n_jobs= -1)\n",
    "\n",
    "tuning_model.fit(X_train,y_train)\n",
    "print(tuning_model.best_params_)\n",
    "print(tuning_model.best_score_)"
   ],
   "metadata": {
    "collapsed": false
   }
  }
 ],
 "metadata": {
  "kernelspec": {
   "display_name": "Python 3",
   "language": "python",
   "name": "python3"
  },
  "language_info": {
   "codemirror_mode": {
    "name": "ipython",
    "version": 2
   },
   "file_extension": ".py",
   "mimetype": "text/x-python",
   "name": "python",
   "nbconvert_exporter": "python",
   "pygments_lexer": "ipython2",
   "version": "2.7.6"
  }
 },
 "nbformat": 4,
 "nbformat_minor": 0
}
